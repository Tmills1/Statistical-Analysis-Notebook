{
  "nbformat": 4,
  "nbformat_minor": 0,
  "metadata": {
    "colab": {
      "provenance": [],
      "include_colab_link": true
    },
    "kernelspec": {
      "name": "python3",
      "display_name": "Python 3"
    },
    "language_info": {
      "name": "python"
    }
  },
  "cells": [
    {
      "cell_type": "markdown",
      "metadata": {
        "id": "view-in-github",
        "colab_type": "text"
      },
      "source": [
        "<a href=\"https://colab.research.google.com/github/Tmills1/Statistical-Analysis-Notebook/blob/main/Tutorial_3(with_exercise_solutions)_Introduction_to_Statistical_Analysis.ipynb\" target=\"_parent\"><img src=\"https://colab.research.google.com/assets/colab-badge.svg\" alt=\"Open In Colab\"/></a>"
      ]
    },
    {
      "cell_type": "markdown",
      "source": [
        "# Introduction to Statistical Analysis."
      ],
      "metadata": {
        "id": "tN0x4D4-LqAk"
      }
    },
    {
      "cell_type": "markdown",
      "source": [
        "Let's begin by mounting our drive. This will help us retrieve the necessary dataset from our google drive."
      ],
      "metadata": {
        "id": "EeMthzW5AV5B"
      }
    },
    {
      "cell_type": "code",
      "execution_count": null,
      "metadata": {
        "colab": {
          "base_uri": "https://localhost:8080/"
        },
        "id": "Q7cGf0ZwqNUA",
        "outputId": "97d766fb-0aee-4c77-8dbf-1d9225f2d2b0"
      },
      "outputs": [
        {
          "output_type": "stream",
          "name": "stdout",
          "text": [
            "Mounted at /content/drive\n"
          ]
        }
      ],
      "source": [
        "from google.colab import drive\n",
        "drive.mount('/content/drive')"
      ]
    },
    {
      "cell_type": "code",
      "execution_count": null,
      "metadata": {
        "id": "yycVx_9JqWWL"
      },
      "outputs": [],
      "source": [
        "import os\n",
        "os.chdir(\"/content/drive/MyDrive/InclusionBridgeMasterFolder/CollegeAdvantageMaterials/CA 2023/InclusionBridgePrepResources/Coaches/datasets\")"
      ]
    },
    {
      "cell_type": "markdown",
      "source": [
        "In this tutorial, we will be making use of the heart disease dataset. This data set dates from 1988 and contains 76 observations. Here is a description of the features in the dataset:\n",
        "\n",
        "- **age**\n",
        "- **sex**\n",
        "- **cp**: chest pain type (4 values)\n",
        "- **trestbps**: resting blood pressure\n",
        "- **chol**: serum cholestoral in mg/dl\n",
        "- **fbs**: fasting blood sugar > 120 mg/dl\n",
        "- **restecg**: resting electrocardiographic results (values 0,1,2)\n",
        "- **thalach**: maximum heart rate achieved\n",
        "- **exang**: exercise induced angina\n",
        "- **oldpeak**: ST depression induced by exercise relative to rest.\n",
        "- **slope**: the slope of the peak exercise ST segment\n",
        "- **ca**: number of major vessels (0-3) colored by flourosopy\n",
        "- **thal**: 0 = normal; 1 = fixed defect; 2 = reversable defect\n",
        "- **target**: indicates the presence of heart disease in the patient. It is integer valued 0 = no disease and 1 = disease.\n",
        "\n",
        "We will also be reviewing a number of statistical concepts such as:\n",
        "- Confidence Intervals\n",
        "- Hypothesis testing\n",
        "- A/B testing\n",
        "- Proportion Test\n",
        "\n",
        "We will also leverage [statsmodels](https://www.statsmodels.org/stable/index.html): a Python package that provides a complement to `scipy` for statistical computations. Let's begin by loading the dataset:"
      ],
      "metadata": {
        "id": "wniLD4bjMPkA"
      }
    },
    {
      "cell_type": "code",
      "source": [
        "import numpy as np\n",
        "import pandas as pd\n",
        "heart_data = pd.read_csv(\"heart.csv\")\n",
        "heart_data.head()"
      ],
      "metadata": {
        "colab": {
          "base_uri": "https://localhost:8080/",
          "height": 206
        },
        "id": "izKVboseO5u5",
        "outputId": "cabcf308-efa0-4653-9615-ca48dc86dfd9"
      },
      "execution_count": null,
      "outputs": [
        {
          "output_type": "execute_result",
          "data": {
            "text/plain": [
              "   age  sex  cp  trestbps  chol  fbs  restecg  thalach  exang  oldpeak  slope  \\\n",
              "0   52    1   0       125   212    0        1      168      0      1.0      2   \n",
              "1   53    1   0       140   203    1        0      155      1      3.1      0   \n",
              "2   70    1   0       145   174    0        1      125      1      2.6      0   \n",
              "3   61    1   0       148   203    0        1      161      0      0.0      2   \n",
              "4   62    0   0       138   294    1        1      106      0      1.9      1   \n",
              "\n",
              "   ca  thal  target  \n",
              "0   2     3       0  \n",
              "1   0     3       0  \n",
              "2   0     3       0  \n",
              "3   1     3       0  \n",
              "4   3     2       0  "
            ],
            "text/html": [
              "\n",
              "  <div id=\"df-097d9e9d-9b5e-4433-921c-4589211dce38\">\n",
              "    <div class=\"colab-df-container\">\n",
              "      <div>\n",
              "<style scoped>\n",
              "    .dataframe tbody tr th:only-of-type {\n",
              "        vertical-align: middle;\n",
              "    }\n",
              "\n",
              "    .dataframe tbody tr th {\n",
              "        vertical-align: top;\n",
              "    }\n",
              "\n",
              "    .dataframe thead th {\n",
              "        text-align: right;\n",
              "    }\n",
              "</style>\n",
              "<table border=\"1\" class=\"dataframe\">\n",
              "  <thead>\n",
              "    <tr style=\"text-align: right;\">\n",
              "      <th></th>\n",
              "      <th>age</th>\n",
              "      <th>sex</th>\n",
              "      <th>cp</th>\n",
              "      <th>trestbps</th>\n",
              "      <th>chol</th>\n",
              "      <th>fbs</th>\n",
              "      <th>restecg</th>\n",
              "      <th>thalach</th>\n",
              "      <th>exang</th>\n",
              "      <th>oldpeak</th>\n",
              "      <th>slope</th>\n",
              "      <th>ca</th>\n",
              "      <th>thal</th>\n",
              "      <th>target</th>\n",
              "    </tr>\n",
              "  </thead>\n",
              "  <tbody>\n",
              "    <tr>\n",
              "      <th>0</th>\n",
              "      <td>52</td>\n",
              "      <td>1</td>\n",
              "      <td>0</td>\n",
              "      <td>125</td>\n",
              "      <td>212</td>\n",
              "      <td>0</td>\n",
              "      <td>1</td>\n",
              "      <td>168</td>\n",
              "      <td>0</td>\n",
              "      <td>1.0</td>\n",
              "      <td>2</td>\n",
              "      <td>2</td>\n",
              "      <td>3</td>\n",
              "      <td>0</td>\n",
              "    </tr>\n",
              "    <tr>\n",
              "      <th>1</th>\n",
              "      <td>53</td>\n",
              "      <td>1</td>\n",
              "      <td>0</td>\n",
              "      <td>140</td>\n",
              "      <td>203</td>\n",
              "      <td>1</td>\n",
              "      <td>0</td>\n",
              "      <td>155</td>\n",
              "      <td>1</td>\n",
              "      <td>3.1</td>\n",
              "      <td>0</td>\n",
              "      <td>0</td>\n",
              "      <td>3</td>\n",
              "      <td>0</td>\n",
              "    </tr>\n",
              "    <tr>\n",
              "      <th>2</th>\n",
              "      <td>70</td>\n",
              "      <td>1</td>\n",
              "      <td>0</td>\n",
              "      <td>145</td>\n",
              "      <td>174</td>\n",
              "      <td>0</td>\n",
              "      <td>1</td>\n",
              "      <td>125</td>\n",
              "      <td>1</td>\n",
              "      <td>2.6</td>\n",
              "      <td>0</td>\n",
              "      <td>0</td>\n",
              "      <td>3</td>\n",
              "      <td>0</td>\n",
              "    </tr>\n",
              "    <tr>\n",
              "      <th>3</th>\n",
              "      <td>61</td>\n",
              "      <td>1</td>\n",
              "      <td>0</td>\n",
              "      <td>148</td>\n",
              "      <td>203</td>\n",
              "      <td>0</td>\n",
              "      <td>1</td>\n",
              "      <td>161</td>\n",
              "      <td>0</td>\n",
              "      <td>0.0</td>\n",
              "      <td>2</td>\n",
              "      <td>1</td>\n",
              "      <td>3</td>\n",
              "      <td>0</td>\n",
              "    </tr>\n",
              "    <tr>\n",
              "      <th>4</th>\n",
              "      <td>62</td>\n",
              "      <td>0</td>\n",
              "      <td>0</td>\n",
              "      <td>138</td>\n",
              "      <td>294</td>\n",
              "      <td>1</td>\n",
              "      <td>1</td>\n",
              "      <td>106</td>\n",
              "      <td>0</td>\n",
              "      <td>1.9</td>\n",
              "      <td>1</td>\n",
              "      <td>3</td>\n",
              "      <td>2</td>\n",
              "      <td>0</td>\n",
              "    </tr>\n",
              "  </tbody>\n",
              "</table>\n",
              "</div>\n",
              "      <button class=\"colab-df-convert\" onclick=\"convertToInteractive('df-097d9e9d-9b5e-4433-921c-4589211dce38')\"\n",
              "              title=\"Convert this dataframe to an interactive table.\"\n",
              "              style=\"display:none;\">\n",
              "        \n",
              "  <svg xmlns=\"http://www.w3.org/2000/svg\" height=\"24px\"viewBox=\"0 0 24 24\"\n",
              "       width=\"24px\">\n",
              "    <path d=\"M0 0h24v24H0V0z\" fill=\"none\"/>\n",
              "    <path d=\"M18.56 5.44l.94 2.06.94-2.06 2.06-.94-2.06-.94-.94-2.06-.94 2.06-2.06.94zm-11 1L8.5 8.5l.94-2.06 2.06-.94-2.06-.94L8.5 2.5l-.94 2.06-2.06.94zm10 10l.94 2.06.94-2.06 2.06-.94-2.06-.94-.94-2.06-.94 2.06-2.06.94z\"/><path d=\"M17.41 7.96l-1.37-1.37c-.4-.4-.92-.59-1.43-.59-.52 0-1.04.2-1.43.59L10.3 9.45l-7.72 7.72c-.78.78-.78 2.05 0 2.83L4 21.41c.39.39.9.59 1.41.59.51 0 1.02-.2 1.41-.59l7.78-7.78 2.81-2.81c.8-.78.8-2.07 0-2.86zM5.41 20L4 18.59l7.72-7.72 1.47 1.35L5.41 20z\"/>\n",
              "  </svg>\n",
              "      </button>\n",
              "      \n",
              "  <style>\n",
              "    .colab-df-container {\n",
              "      display:flex;\n",
              "      flex-wrap:wrap;\n",
              "      gap: 12px;\n",
              "    }\n",
              "\n",
              "    .colab-df-convert {\n",
              "      background-color: #E8F0FE;\n",
              "      border: none;\n",
              "      border-radius: 50%;\n",
              "      cursor: pointer;\n",
              "      display: none;\n",
              "      fill: #1967D2;\n",
              "      height: 32px;\n",
              "      padding: 0 0 0 0;\n",
              "      width: 32px;\n",
              "    }\n",
              "\n",
              "    .colab-df-convert:hover {\n",
              "      background-color: #E2EBFA;\n",
              "      box-shadow: 0px 1px 2px rgba(60, 64, 67, 0.3), 0px 1px 3px 1px rgba(60, 64, 67, 0.15);\n",
              "      fill: #174EA6;\n",
              "    }\n",
              "\n",
              "    [theme=dark] .colab-df-convert {\n",
              "      background-color: #3B4455;\n",
              "      fill: #D2E3FC;\n",
              "    }\n",
              "\n",
              "    [theme=dark] .colab-df-convert:hover {\n",
              "      background-color: #434B5C;\n",
              "      box-shadow: 0px 1px 3px 1px rgba(0, 0, 0, 0.15);\n",
              "      filter: drop-shadow(0px 1px 2px rgba(0, 0, 0, 0.3));\n",
              "      fill: #FFFFFF;\n",
              "    }\n",
              "  </style>\n",
              "\n",
              "      <script>\n",
              "        const buttonEl =\n",
              "          document.querySelector('#df-097d9e9d-9b5e-4433-921c-4589211dce38 button.colab-df-convert');\n",
              "        buttonEl.style.display =\n",
              "          google.colab.kernel.accessAllowed ? 'block' : 'none';\n",
              "\n",
              "        async function convertToInteractive(key) {\n",
              "          const element = document.querySelector('#df-097d9e9d-9b5e-4433-921c-4589211dce38');\n",
              "          const dataTable =\n",
              "            await google.colab.kernel.invokeFunction('convertToInteractive',\n",
              "                                                     [key], {});\n",
              "          if (!dataTable) return;\n",
              "\n",
              "          const docLinkHtml = 'Like what you see? Visit the ' +\n",
              "            '<a target=\"_blank\" href=https://colab.research.google.com/notebooks/data_table.ipynb>data table notebook</a>'\n",
              "            + ' to learn more about interactive tables.';\n",
              "          element.innerHTML = '';\n",
              "          dataTable['output_type'] = 'display_data';\n",
              "          await google.colab.output.renderOutput(dataTable, element);\n",
              "          const docLink = document.createElement('div');\n",
              "          docLink.innerHTML = docLinkHtml;\n",
              "          element.appendChild(docLink);\n",
              "        }\n",
              "      </script>\n",
              "    </div>\n",
              "  </div>\n",
              "  "
            ]
          },
          "metadata": {},
          "execution_count": 3
        }
      ]
    },
    {
      "cell_type": "markdown",
      "source": [
        "We will also drop all the missing values in the dataset i.e the null values."
      ],
      "metadata": {
        "id": "GsBNzOLhPoa4"
      }
    },
    {
      "cell_type": "code",
      "source": [
        "heart_data.dropna(inplace=True)"
      ],
      "metadata": {
        "id": "F7cc6ysXPtk6"
      },
      "execution_count": null,
      "outputs": []
    },
    {
      "cell_type": "markdown",
      "source": [
        "Additionally, we will replace 1 and 0 in the `age` column with `Male` and `Female` in a new column named `Gender`."
      ],
      "metadata": {
        "id": "_msQQfPaPGBQ"
      }
    },
    {
      "cell_type": "code",
      "source": [
        "heart_data['Gender'] = heart_data['sex'].replace({1: \"Male\", 0: \"Female\"})"
      ],
      "metadata": {
        "id": "cDx7cBwLPQ15"
      },
      "execution_count": null,
      "outputs": []
    },
    {
      "cell_type": "markdown",
      "source": [
        "## Descriptive and Inferential Statistics\n",
        "\n",
        "\n",
        "In practical statistical analysis, the key focus is distinguishing between a population and a sample. The goal is either to describe a sample or a population, or to use a sample to make inferences about the population. Descriptive statistics involve measuring averages, proportions, and visualizing data, while inferential statistics involve drawing conclusions about the population based on information from the sample."
      ],
      "metadata": {
        "id": "l1yAUEO0Yl79"
      }
    },
    {
      "cell_type": "markdown",
      "source": [
        "#### Quantitative and Qualitative variables\n",
        "\n",
        "Variables in statistics can describe either `qualitative`, or `quantitative`. Generally, a variable that describes how much there is of something is called a **quantitative variable**. Examples of quantitative variables in our dataset includes `trestbps`, `chol`, `thalach` and `age`. A few variables in our dataset clearly don't describe quantities. The `target` variable, for instance, describes the status of a person's heart. The `thal` variable has three categories encoded as 0, 1, and 2. These variables describe properties that are not quantitative., and as such are called `qualitative` variables or `categorical` variables."
      ],
      "metadata": {
        "id": "yWiiNvLFbpyT"
      }
    },
    {
      "cell_type": "code",
      "source": [
        "#Get numerical columns\n",
        "heart_data.select_dtypes(include=np.number).columns.tolist()"
      ],
      "metadata": {
        "id": "05Rluu0DYr_N",
        "colab": {
          "base_uri": "https://localhost:8080/"
        },
        "outputId": "133e4196-0686-4830-b54a-4207a76499bf"
      },
      "execution_count": null,
      "outputs": [
        {
          "output_type": "execute_result",
          "data": {
            "text/plain": [
              "['age',\n",
              " 'sex',\n",
              " 'cp',\n",
              " 'trestbps',\n",
              " 'chol',\n",
              " 'fbs',\n",
              " 'restecg',\n",
              " 'thalach',\n",
              " 'exang',\n",
              " 'oldpeak',\n",
              " 'slope',\n",
              " 'ca',\n",
              " 'thal',\n",
              " 'target']"
            ]
          },
          "metadata": {},
          "execution_count": 6
        }
      ]
    },
    {
      "cell_type": "markdown",
      "source": [
        "You will notice that encoded variables such as `thal` and `target`, which are obviously categorical are displayed. This is why it's good to understand what your data columns means.\n",
        "Let's look at how to get categorical variables."
      ],
      "metadata": {
        "id": "KBMDocSllcz2"
      }
    },
    {
      "cell_type": "code",
      "source": [
        "#Get categorical columns\n",
        "heart_data.select_dtypes(include=\"object\").columns.tolist()"
      ],
      "metadata": {
        "colab": {
          "base_uri": "https://localhost:8080/"
        },
        "id": "NBIhYgBAlZy0",
        "outputId": "768db380-ae4a-4fc2-a4ed-6895bffe1edf"
      },
      "execution_count": null,
      "outputs": [
        {
          "output_type": "execute_result",
          "data": {
            "text/plain": [
              "['Gender']"
            ]
          },
          "metadata": {},
          "execution_count": 7
        }
      ]
    },
    {
      "cell_type": "code",
      "source": [
        "heart_data.head(5)"
      ],
      "metadata": {
        "colab": {
          "base_uri": "https://localhost:8080/",
          "height": 206
        },
        "id": "uNXyeVpZAdCC",
        "outputId": "cedff2a2-12f4-42f6-fd1a-06b8afdf458a"
      },
      "execution_count": null,
      "outputs": [
        {
          "output_type": "execute_result",
          "data": {
            "text/plain": [
              "   age  sex  cp  trestbps  chol  fbs  restecg  thalach  exang  oldpeak  slope  \\\n",
              "0   52    1   0       125   212    0        1      168      0      1.0      2   \n",
              "1   53    1   0       140   203    1        0      155      1      3.1      0   \n",
              "2   70    1   0       145   174    0        1      125      1      2.6      0   \n",
              "3   61    1   0       148   203    0        1      161      0      0.0      2   \n",
              "4   62    0   0       138   294    1        1      106      0      1.9      1   \n",
              "\n",
              "   ca  thal  target  Gender  \n",
              "0   2     3       0    Male  \n",
              "1   0     3       0    Male  \n",
              "2   0     3       0    Male  \n",
              "3   1     3       0    Male  \n",
              "4   3     2       0  Female  "
            ],
            "text/html": [
              "\n",
              "  <div id=\"df-614f38fc-29f1-42de-a4e5-a15be9268d42\">\n",
              "    <div class=\"colab-df-container\">\n",
              "      <div>\n",
              "<style scoped>\n",
              "    .dataframe tbody tr th:only-of-type {\n",
              "        vertical-align: middle;\n",
              "    }\n",
              "\n",
              "    .dataframe tbody tr th {\n",
              "        vertical-align: top;\n",
              "    }\n",
              "\n",
              "    .dataframe thead th {\n",
              "        text-align: right;\n",
              "    }\n",
              "</style>\n",
              "<table border=\"1\" class=\"dataframe\">\n",
              "  <thead>\n",
              "    <tr style=\"text-align: right;\">\n",
              "      <th></th>\n",
              "      <th>age</th>\n",
              "      <th>sex</th>\n",
              "      <th>cp</th>\n",
              "      <th>trestbps</th>\n",
              "      <th>chol</th>\n",
              "      <th>fbs</th>\n",
              "      <th>restecg</th>\n",
              "      <th>thalach</th>\n",
              "      <th>exang</th>\n",
              "      <th>oldpeak</th>\n",
              "      <th>slope</th>\n",
              "      <th>ca</th>\n",
              "      <th>thal</th>\n",
              "      <th>target</th>\n",
              "      <th>Gender</th>\n",
              "    </tr>\n",
              "  </thead>\n",
              "  <tbody>\n",
              "    <tr>\n",
              "      <th>0</th>\n",
              "      <td>52</td>\n",
              "      <td>1</td>\n",
              "      <td>0</td>\n",
              "      <td>125</td>\n",
              "      <td>212</td>\n",
              "      <td>0</td>\n",
              "      <td>1</td>\n",
              "      <td>168</td>\n",
              "      <td>0</td>\n",
              "      <td>1.0</td>\n",
              "      <td>2</td>\n",
              "      <td>2</td>\n",
              "      <td>3</td>\n",
              "      <td>0</td>\n",
              "      <td>Male</td>\n",
              "    </tr>\n",
              "    <tr>\n",
              "      <th>1</th>\n",
              "      <td>53</td>\n",
              "      <td>1</td>\n",
              "      <td>0</td>\n",
              "      <td>140</td>\n",
              "      <td>203</td>\n",
              "      <td>1</td>\n",
              "      <td>0</td>\n",
              "      <td>155</td>\n",
              "      <td>1</td>\n",
              "      <td>3.1</td>\n",
              "      <td>0</td>\n",
              "      <td>0</td>\n",
              "      <td>3</td>\n",
              "      <td>0</td>\n",
              "      <td>Male</td>\n",
              "    </tr>\n",
              "    <tr>\n",
              "      <th>2</th>\n",
              "      <td>70</td>\n",
              "      <td>1</td>\n",
              "      <td>0</td>\n",
              "      <td>145</td>\n",
              "      <td>174</td>\n",
              "      <td>0</td>\n",
              "      <td>1</td>\n",
              "      <td>125</td>\n",
              "      <td>1</td>\n",
              "      <td>2.6</td>\n",
              "      <td>0</td>\n",
              "      <td>0</td>\n",
              "      <td>3</td>\n",
              "      <td>0</td>\n",
              "      <td>Male</td>\n",
              "    </tr>\n",
              "    <tr>\n",
              "      <th>3</th>\n",
              "      <td>61</td>\n",
              "      <td>1</td>\n",
              "      <td>0</td>\n",
              "      <td>148</td>\n",
              "      <td>203</td>\n",
              "      <td>0</td>\n",
              "      <td>1</td>\n",
              "      <td>161</td>\n",
              "      <td>0</td>\n",
              "      <td>0.0</td>\n",
              "      <td>2</td>\n",
              "      <td>1</td>\n",
              "      <td>3</td>\n",
              "      <td>0</td>\n",
              "      <td>Male</td>\n",
              "    </tr>\n",
              "    <tr>\n",
              "      <th>4</th>\n",
              "      <td>62</td>\n",
              "      <td>0</td>\n",
              "      <td>0</td>\n",
              "      <td>138</td>\n",
              "      <td>294</td>\n",
              "      <td>1</td>\n",
              "      <td>1</td>\n",
              "      <td>106</td>\n",
              "      <td>0</td>\n",
              "      <td>1.9</td>\n",
              "      <td>1</td>\n",
              "      <td>3</td>\n",
              "      <td>2</td>\n",
              "      <td>0</td>\n",
              "      <td>Female</td>\n",
              "    </tr>\n",
              "  </tbody>\n",
              "</table>\n",
              "</div>\n",
              "      <button class=\"colab-df-convert\" onclick=\"convertToInteractive('df-614f38fc-29f1-42de-a4e5-a15be9268d42')\"\n",
              "              title=\"Convert this dataframe to an interactive table.\"\n",
              "              style=\"display:none;\">\n",
              "        \n",
              "  <svg xmlns=\"http://www.w3.org/2000/svg\" height=\"24px\"viewBox=\"0 0 24 24\"\n",
              "       width=\"24px\">\n",
              "    <path d=\"M0 0h24v24H0V0z\" fill=\"none\"/>\n",
              "    <path d=\"M18.56 5.44l.94 2.06.94-2.06 2.06-.94-2.06-.94-.94-2.06-.94 2.06-2.06.94zm-11 1L8.5 8.5l.94-2.06 2.06-.94-2.06-.94L8.5 2.5l-.94 2.06-2.06.94zm10 10l.94 2.06.94-2.06 2.06-.94-2.06-.94-.94-2.06-.94 2.06-2.06.94z\"/><path d=\"M17.41 7.96l-1.37-1.37c-.4-.4-.92-.59-1.43-.59-.52 0-1.04.2-1.43.59L10.3 9.45l-7.72 7.72c-.78.78-.78 2.05 0 2.83L4 21.41c.39.39.9.59 1.41.59.51 0 1.02-.2 1.41-.59l7.78-7.78 2.81-2.81c.8-.78.8-2.07 0-2.86zM5.41 20L4 18.59l7.72-7.72 1.47 1.35L5.41 20z\"/>\n",
              "  </svg>\n",
              "      </button>\n",
              "      \n",
              "  <style>\n",
              "    .colab-df-container {\n",
              "      display:flex;\n",
              "      flex-wrap:wrap;\n",
              "      gap: 12px;\n",
              "    }\n",
              "\n",
              "    .colab-df-convert {\n",
              "      background-color: #E8F0FE;\n",
              "      border: none;\n",
              "      border-radius: 50%;\n",
              "      cursor: pointer;\n",
              "      display: none;\n",
              "      fill: #1967D2;\n",
              "      height: 32px;\n",
              "      padding: 0 0 0 0;\n",
              "      width: 32px;\n",
              "    }\n",
              "\n",
              "    .colab-df-convert:hover {\n",
              "      background-color: #E2EBFA;\n",
              "      box-shadow: 0px 1px 2px rgba(60, 64, 67, 0.3), 0px 1px 3px 1px rgba(60, 64, 67, 0.15);\n",
              "      fill: #174EA6;\n",
              "    }\n",
              "\n",
              "    [theme=dark] .colab-df-convert {\n",
              "      background-color: #3B4455;\n",
              "      fill: #D2E3FC;\n",
              "    }\n",
              "\n",
              "    [theme=dark] .colab-df-convert:hover {\n",
              "      background-color: #434B5C;\n",
              "      box-shadow: 0px 1px 3px 1px rgba(0, 0, 0, 0.15);\n",
              "      filter: drop-shadow(0px 1px 2px rgba(0, 0, 0, 0.3));\n",
              "      fill: #FFFFFF;\n",
              "    }\n",
              "  </style>\n",
              "\n",
              "      <script>\n",
              "        const buttonEl =\n",
              "          document.querySelector('#df-614f38fc-29f1-42de-a4e5-a15be9268d42 button.colab-df-convert');\n",
              "        buttonEl.style.display =\n",
              "          google.colab.kernel.accessAllowed ? 'block' : 'none';\n",
              "\n",
              "        async function convertToInteractive(key) {\n",
              "          const element = document.querySelector('#df-614f38fc-29f1-42de-a4e5-a15be9268d42');\n",
              "          const dataTable =\n",
              "            await google.colab.kernel.invokeFunction('convertToInteractive',\n",
              "                                                     [key], {});\n",
              "          if (!dataTable) return;\n",
              "\n",
              "          const docLinkHtml = 'Like what you see? Visit the ' +\n",
              "            '<a target=\"_blank\" href=https://colab.research.google.com/notebooks/data_table.ipynb>data table notebook</a>'\n",
              "            + ' to learn more about interactive tables.';\n",
              "          element.innerHTML = '';\n",
              "          dataTable['output_type'] = 'display_data';\n",
              "          await google.colab.output.renderOutput(dataTable, element);\n",
              "          const docLink = document.createElement('div');\n",
              "          docLink.innerHTML = docLinkHtml;\n",
              "          element.appendChild(docLink);\n",
              "        }\n",
              "      </script>\n",
              "    </div>\n",
              "  </div>\n",
              "  "
            ]
          },
          "metadata": {},
          "execution_count": 8
        }
      ]
    },
    {
      "cell_type": "markdown",
      "source": [
        "\n",
        "#### Introduction to Statistics\n",
        "\n",
        "In the visualization tutorial, we learned how to use frequency distribution tables to bring the data to a comprehensible form to find patterns. Next, we will learn to summarize the distribution of a variable with a single value such as it's `mean,  median, or mode`.\n",
        "\n",
        "For a clear description of each measure, see [here](https://youtu.be/h8EYEJ32oQ8)"
      ],
      "metadata": {
        "id": "p8p-kABPhleT"
      }
    },
    {
      "cell_type": "code",
      "source": [
        "\n",
        "# let's look at the mean (or average) age of patients in the dataset\n",
        "mean_age = heart_data[\"age\"].mean()\n",
        "print(f\"mean age of patients: {mean_age}\")"
      ],
      "metadata": {
        "colab": {
          "base_uri": "https://localhost:8080/"
        },
        "id": "c3SQiG5wk0l_",
        "outputId": "0e042f58-283a-4a00-b6c0-a8be17d5697e"
      },
      "execution_count": null,
      "outputs": [
        {
          "output_type": "stream",
          "name": "stdout",
          "text": [
            "mean age of patients: 54.43414634146342\n"
          ]
        }
      ]
    },
    {
      "cell_type": "markdown",
      "source": [
        "- **Mean:** The mean is the sum of the value of each observation in a dataset divided by the number of observations. This is also known as the arithmetic average."
      ],
      "metadata": {
        "id": "OOkUBtHYzsZo"
      }
    },
    {
      "cell_type": "code",
      "source": [
        "\n",
        "#let's look at the median value of peak heart rates achieved by patients in our dataset.\n",
        "median_rate = heart_data[\"thalach\"].median()\n",
        "print(f\"median peak heart rate achieved by patients: {median_rate}\")"
      ],
      "metadata": {
        "colab": {
          "base_uri": "https://localhost:8080/"
        },
        "id": "kx4fKZQCn5U2",
        "outputId": "70ab0370-c9e0-41c3-b645-481b359e5e09"
      },
      "execution_count": null,
      "outputs": [
        {
          "output_type": "stream",
          "name": "stdout",
          "text": [
            "median peak heart rate achieved by patients: 152.0\n"
          ]
        }
      ]
    },
    {
      "cell_type": "markdown",
      "source": [
        "- **Median**: The median is the middle value in distribution when the values are arranged in ascending or descending order. The median divides the distribution in half (there are 50% of observations on either side of the median value). In a distribution with an odd number of observations, the median value is the middle value."
      ],
      "metadata": {
        "id": "FjPMzuU_zZLX"
      }
    },
    {
      "cell_type": "code",
      "source": [
        "\n",
        "# let's look at the most frequent gender represented in our dataset\n",
        "most_frequent_gender = heart_data.mode()[\"Gender\"][0]\n",
        "print(f\"the most frequent gender that occurs in our dataset is: {most_frequent_gender}\")"
      ],
      "metadata": {
        "colab": {
          "base_uri": "https://localhost:8080/"
        },
        "id": "Pq3WrRhwv-B9",
        "outputId": "e67f7e11-b2af-4b10-faf9-037534fcfe6d"
      },
      "execution_count": null,
      "outputs": [
        {
          "output_type": "stream",
          "name": "stdout",
          "text": [
            "the most frequent gender that occurs in our dataset is: Male\n"
          ]
        }
      ]
    },
    {
      "cell_type": "markdown",
      "source": [
        "#### Measures of Variability\n",
        "\n",
        "Furthermore, we will measure the variability in a distribution. If we have a distribution A with the values [3, 3, 3, 3], and a distribution B with [30, 1, 15, 43], we can clearly see that `there's much more variability (diversity) in B`. An inference like this is made using measures of variability like `variance` and `standard deviation`.\n",
        "\n",
        "For a clear description of each measure, see [measures of variablility](https://youtu.be/E4HAYd0QnRc)"
      ],
      "metadata": {
        "id": "0uz_UWKB0iUx"
      }
    },
    {
      "cell_type": "code",
      "source": [
        "heart_data.groupby(\"Gender\")[\"chol\"].var()"
      ],
      "metadata": {
        "colab": {
          "base_uri": "https://localhost:8080/"
        },
        "id": "TS74qmH70vZc",
        "outputId": "fab5f2d8-6c77-41bd-de4f-1ae952b49489"
      },
      "execution_count": null,
      "outputs": [
        {
          "output_type": "execute_result",
          "data": {
            "text/plain": [
              "Gender\n",
              "Female    4155.965826\n",
              "Male      1862.400200\n",
              "Name: chol, dtype: float64"
            ]
          },
          "metadata": {},
          "execution_count": 12
        }
      ]
    },
    {
      "cell_type": "markdown",
      "source": [
        "- **Variance:** A variance of zero indicates that all of the data values are identical. The values for variance are always positive. A small variance indicates that the data points tend to be very close to the mean, and to each other. A high variance indicates that the data points are very spread out from the mean, and from one another."
      ],
      "metadata": {
        "id": "xNSbaBrY2M1Z"
      }
    },
    {
      "cell_type": "code",
      "source": [
        "heart_data.groupby(\"Gender\")[\"chol\"].std()"
      ],
      "metadata": {
        "colab": {
          "base_uri": "https://localhost:8080/"
        },
        "id": "uokw-yEp1MDA",
        "outputId": "c8e2b024-0b13-4425-b62d-4dc373513bd1"
      },
      "execution_count": null,
      "outputs": [
        {
          "output_type": "execute_result",
          "data": {
            "text/plain": [
              "Gender\n",
              "Female    64.466781\n",
              "Male      43.155535\n",
              "Name: chol, dtype: float64"
            ]
          },
          "metadata": {},
          "execution_count": 13
        }
      ]
    },
    {
      "cell_type": "markdown",
      "source": [
        "- **Standard Deviation:** Low standard deviation means data are clustered around the mean, and high standard deviation indicates data are more spread out. A standard deviation close to zero indicates that data points are close to the mean, whereas a high or low standard deviation indicates data points are respectively above or below the mean."
      ],
      "metadata": {
        "id": "6PjCfXg92sLz"
      }
    },
    {
      "cell_type": "code",
      "source": [
        "standard_dev = heart_data[\"trestbps\"].std()\n",
        "print(f\"standard deviation: {standard_dev}\")"
      ],
      "metadata": {
        "colab": {
          "base_uri": "https://localhost:8080/"
        },
        "id": "bOl6C9cMx_H5",
        "outputId": "215e1509-3ee0-4125-9f89-8daf734ff090"
      },
      "execution_count": null,
      "outputs": [
        {
          "output_type": "stream",
          "name": "stdout",
          "text": [
            "standard deviation: 17.516718005376408\n"
          ]
        }
      ]
    },
    {
      "cell_type": "markdown",
      "source": [
        "Before delving deep into the topics let’s get acquainted with some statistical terminologies.\n",
        "\n",
        "- **population**: It is the set of all similar individuals. For example the population of a city, students of a college, etc.\n",
        "\n",
        "- **sample**: It is a small set of similar individuals drawn from the population. Similarly, a random sample is a sample drawn at random from the population.\n",
        "\n",
        "- **parameters**:  is any numerical measure or characteristic that describes a population. Unlike a statistic, which is calculated from a sample of data, a parameter is a fixed value that represents the entire populationn.\n",
        "\n",
        "- **statistic**:  is any numerical measure or summary that is calculated from a sample of data. It provides information about a specific characteristic or property of the sample. some examples include: mean and standard deviation\n",
        "\n",
        "- **Z-score**: also known as the standard score, is a statistical measure that indicates how many standard deviations a particular data point is from the mean of a distribution. It is a way to standardize and compare values from different distributions. The z-score tells us the number of standard deviations a data point is above or below the mean.\n",
        "    - If the z-score is positive, it means the data point is above the mean.\n",
        "    - If it is negative, it means the data point is below the mean.\n",
        "    - A z-score of 0 indicates that the data point is exactly at the mean.\n",
        "\n",
        "  Given by: $$  z = \\frac{(x - μ)}{σ}$$\n",
        "\n",
        "\n",
        "- **Bootstrapping:** The process of bootstrapping involves creating multiple resamples (random samples with replacement) from the original sample data. Each resample is of the same size as the original sample. By resampling, we simulate multiple `pseudo-samples` that are representative of the original population. Once we have these resamples, we perform the desired statistical analysis (such as calculating a mean) on each resample."
      ],
      "metadata": {
        "id": "PFTPL2VVDCNQ"
      }
    },
    {
      "cell_type": "markdown",
      "source": [
        "We call a smaller group selected from a `population` a `sample`. When we select a smaller group from a population we're `sampling`. For instance, say we took a sample of 100 people from a population of over 50,000 people.\n",
        "\n",
        "![image.png](data:image/png;base64,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)\n",
        "\n",
        "\n",
        "**In terms of descriptive summary**: suppose we collect data from a random sample of 100 households in the city and calculate the average income for those households. The resulting value, let's say $60,000, would be the `statistic`. Whereas, the `parameter` represents the average income of all households in the city (which is unknown)."
      ],
      "metadata": {
        "id": "tcBnW6zuGI22"
      }
    },
    {
      "cell_type": "markdown",
      "source": [
        "#  Understanding Confidence Intervals\n",
        "\n",
        "A confidence interval is an interval estimate that provides a range of plausible values for the population parameter. It is constructed using a point estimate (such as a sample mean or proportion) and a margin of error. The wider the confidence interval, the lower the precision of the estimate, as it reflects a greater amount of uncertainty. Conversely, a narrower confidence interval indicates a more precise estimate.\n",
        "\n",
        "When asked about your height, you might respond by stating that you are 1.93 meters tall. However, this answer does not provide any information about the uncertainty associated with the measurement. A confidence interval provides a range of values within which the true value of the measured quantity is likely to fall. So, you are asked about your height, you could respond with an error estimate or with a confidence interval, like `with a 95% confidence I am from 1.92m to 1.93m tall`.\n",
        "\n",
        "Confidence intervals are useful in providing a range of plausible values for the population parameter, allowing us to make more informed decisions and draw conclusions about the population based on the sample data. The formula for confidence interval can be expressed as:\n",
        "\n",
        "$$ CI = ([\\bar{x} - (z * SE)],   [\\bar{x} + (z * SE)])$$\n",
        "\n",
        "where:\n",
        "\n",
        "  - CI\t=\tconfidence interval\n",
        "  - $\\bar{x}$\t=\tobservation value (*the value we intend to obtain a CI for*)\n",
        "  - $\\bar{x} - (z * SE)$ =\tlower interval\n",
        "  - $\\bar{x} +_ (z * SE)$\t=\tupper interval\n",
        "  - z =\tz score\n",
        "  - SE = standard error\n",
        "\n",
        "We will talk a bit about the parameters above in the next section."
      ],
      "metadata": {
        "id": "k639ZudwCoPh"
      }
    },
    {
      "cell_type": "markdown",
      "source": [
        "#### Confidence Interval for proportions\n",
        "\n",
        "- For clarity on CI for proportions, see [Confidence Interval and margin of error for proportions](https://youtu.be/hlM7zdf7zwU)\n",
        "\n",
        "Okay, let's get straight into business! We are going to construct a confidence interval (CI) for the female population proportion that has heart disease using a confidence level of 95%. To achieve, this we will follow a sequence of steps that can be generalized for cases requiring the estimation of confidence intervals."
      ],
      "metadata": {
        "id": "TvoWdh15RXLK"
      }
    },
    {
      "cell_type": "markdown",
      "source": [
        "#### Step 1: First, we calculate a point estimate of the population parameter based on the sample data. In our scenario, the proportion of diseased females would serve as the point estimate.\n"
      ],
      "metadata": {
        "id": "8RyZct6EHnlC"
      }
    },
    {
      "cell_type": "code",
      "source": [
        "# Extract the population of females.\n",
        "female = heart_data[heart_data[\"Gender\"] == \"Female\"]"
      ],
      "metadata": {
        "id": "FGsw_wf6CrOR"
      },
      "execution_count": null,
      "outputs": []
    },
    {
      "cell_type": "markdown",
      "source": [
        "Let's create a crosstab for each group. Crosstabs are basically data tables that presents the frequencies or counts of the combinations of categories from the two variables."
      ],
      "metadata": {
        "id": "8gxdSQEDS-0x"
      }
    },
    {
      "cell_type": "code",
      "source": [
        "cross_tab = pd.crosstab(female[\"target\"], female[\"Gender\"])\n",
        "cross_tab"
      ],
      "metadata": {
        "colab": {
          "base_uri": "https://localhost:8080/",
          "height": 143
        },
        "id": "KUG3_n_IR2f1",
        "outputId": "4d409e8f-2ad9-4371-b1b1-8cedef07b4ba"
      },
      "execution_count": null,
      "outputs": [
        {
          "output_type": "execute_result",
          "data": {
            "text/plain": [
              "Gender  Female\n",
              "target        \n",
              "0           86\n",
              "1          226"
            ],
            "text/html": [
              "\n",
              "  <div id=\"df-6fee4737-3713-480b-b614-11d677f5f938\">\n",
              "    <div class=\"colab-df-container\">\n",
              "      <div>\n",
              "<style scoped>\n",
              "    .dataframe tbody tr th:only-of-type {\n",
              "        vertical-align: middle;\n",
              "    }\n",
              "\n",
              "    .dataframe tbody tr th {\n",
              "        vertical-align: top;\n",
              "    }\n",
              "\n",
              "    .dataframe thead th {\n",
              "        text-align: right;\n",
              "    }\n",
              "</style>\n",
              "<table border=\"1\" class=\"dataframe\">\n",
              "  <thead>\n",
              "    <tr style=\"text-align: right;\">\n",
              "      <th>Gender</th>\n",
              "      <th>Female</th>\n",
              "    </tr>\n",
              "    <tr>\n",
              "      <th>target</th>\n",
              "      <th></th>\n",
              "    </tr>\n",
              "  </thead>\n",
              "  <tbody>\n",
              "    <tr>\n",
              "      <th>0</th>\n",
              "      <td>86</td>\n",
              "    </tr>\n",
              "    <tr>\n",
              "      <th>1</th>\n",
              "      <td>226</td>\n",
              "    </tr>\n",
              "  </tbody>\n",
              "</table>\n",
              "</div>\n",
              "      <button class=\"colab-df-convert\" onclick=\"convertToInteractive('df-6fee4737-3713-480b-b614-11d677f5f938')\"\n",
              "              title=\"Convert this dataframe to an interactive table.\"\n",
              "              style=\"display:none;\">\n",
              "        \n",
              "  <svg xmlns=\"http://www.w3.org/2000/svg\" height=\"24px\"viewBox=\"0 0 24 24\"\n",
              "       width=\"24px\">\n",
              "    <path d=\"M0 0h24v24H0V0z\" fill=\"none\"/>\n",
              "    <path d=\"M18.56 5.44l.94 2.06.94-2.06 2.06-.94-2.06-.94-.94-2.06-.94 2.06-2.06.94zm-11 1L8.5 8.5l.94-2.06 2.06-.94-2.06-.94L8.5 2.5l-.94 2.06-2.06.94zm10 10l.94 2.06.94-2.06 2.06-.94-2.06-.94-.94-2.06-.94 2.06-2.06.94z\"/><path d=\"M17.41 7.96l-1.37-1.37c-.4-.4-.92-.59-1.43-.59-.52 0-1.04.2-1.43.59L10.3 9.45l-7.72 7.72c-.78.78-.78 2.05 0 2.83L4 21.41c.39.39.9.59 1.41.59.51 0 1.02-.2 1.41-.59l7.78-7.78 2.81-2.81c.8-.78.8-2.07 0-2.86zM5.41 20L4 18.59l7.72-7.72 1.47 1.35L5.41 20z\"/>\n",
              "  </svg>\n",
              "      </button>\n",
              "      \n",
              "  <style>\n",
              "    .colab-df-container {\n",
              "      display:flex;\n",
              "      flex-wrap:wrap;\n",
              "      gap: 12px;\n",
              "    }\n",
              "\n",
              "    .colab-df-convert {\n",
              "      background-color: #E8F0FE;\n",
              "      border: none;\n",
              "      border-radius: 50%;\n",
              "      cursor: pointer;\n",
              "      display: none;\n",
              "      fill: #1967D2;\n",
              "      height: 32px;\n",
              "      padding: 0 0 0 0;\n",
              "      width: 32px;\n",
              "    }\n",
              "\n",
              "    .colab-df-convert:hover {\n",
              "      background-color: #E2EBFA;\n",
              "      box-shadow: 0px 1px 2px rgba(60, 64, 67, 0.3), 0px 1px 3px 1px rgba(60, 64, 67, 0.15);\n",
              "      fill: #174EA6;\n",
              "    }\n",
              "\n",
              "    [theme=dark] .colab-df-convert {\n",
              "      background-color: #3B4455;\n",
              "      fill: #D2E3FC;\n",
              "    }\n",
              "\n",
              "    [theme=dark] .colab-df-convert:hover {\n",
              "      background-color: #434B5C;\n",
              "      box-shadow: 0px 1px 3px 1px rgba(0, 0, 0, 0.15);\n",
              "      filter: drop-shadow(0px 1px 2px rgba(0, 0, 0, 0.3));\n",
              "      fill: #FFFFFF;\n",
              "    }\n",
              "  </style>\n",
              "\n",
              "      <script>\n",
              "        const buttonEl =\n",
              "          document.querySelector('#df-6fee4737-3713-480b-b614-11d677f5f938 button.colab-df-convert');\n",
              "        buttonEl.style.display =\n",
              "          google.colab.kernel.accessAllowed ? 'block' : 'none';\n",
              "\n",
              "        async function convertToInteractive(key) {\n",
              "          const element = document.querySelector('#df-6fee4737-3713-480b-b614-11d677f5f938');\n",
              "          const dataTable =\n",
              "            await google.colab.kernel.invokeFunction('convertToInteractive',\n",
              "                                                     [key], {});\n",
              "          if (!dataTable) return;\n",
              "\n",
              "          const docLinkHtml = 'Like what you see? Visit the ' +\n",
              "            '<a target=\"_blank\" href=https://colab.research.google.com/notebooks/data_table.ipynb>data table notebook</a>'\n",
              "            + ' to learn more about interactive tables.';\n",
              "          element.innerHTML = '';\n",
              "          dataTable['output_type'] = 'display_data';\n",
              "          await google.colab.output.renderOutput(dataTable, element);\n",
              "          const docLink = document.createElement('div');\n",
              "          docLink.innerHTML = docLinkHtml;\n",
              "          element.appendChild(docLink);\n",
              "        }\n",
              "      </script>\n",
              "    </div>\n",
              "  </div>\n",
              "  "
            ]
          },
          "metadata": {},
          "execution_count": 16
        }
      ]
    },
    {
      "cell_type": "markdown",
      "source": [
        "The number of females who have heart disease is 226. Let's get the equivalent in terms of proportion."
      ],
      "metadata": {
        "id": "ZZ9OTUUbTW6s"
      }
    },
    {
      "cell_type": "code",
      "source": [
        "# Perform cross-tabulation and normalize by index (column-wise proportions)\n",
        "cross_tab = pd.crosstab(female[\"target\"], female[\"Gender\"], normalize='columns')\n",
        "cross_tab"
      ],
      "metadata": {
        "colab": {
          "base_uri": "https://localhost:8080/",
          "height": 143
        },
        "id": "h2zDr6JMT8_t",
        "outputId": "fd21820d-cdce-4e25-f5dc-11bc538ba83e"
      },
      "execution_count": null,
      "outputs": [
        {
          "output_type": "execute_result",
          "data": {
            "text/plain": [
              "Gender    Female\n",
              "target          \n",
              "0       0.275641\n",
              "1       0.724359"
            ],
            "text/html": [
              "\n",
              "  <div id=\"df-d3b80cdb-be2a-46bd-870f-670073db02b0\">\n",
              "    <div class=\"colab-df-container\">\n",
              "      <div>\n",
              "<style scoped>\n",
              "    .dataframe tbody tr th:only-of-type {\n",
              "        vertical-align: middle;\n",
              "    }\n",
              "\n",
              "    .dataframe tbody tr th {\n",
              "        vertical-align: top;\n",
              "    }\n",
              "\n",
              "    .dataframe thead th {\n",
              "        text-align: right;\n",
              "    }\n",
              "</style>\n",
              "<table border=\"1\" class=\"dataframe\">\n",
              "  <thead>\n",
              "    <tr style=\"text-align: right;\">\n",
              "      <th>Gender</th>\n",
              "      <th>Female</th>\n",
              "    </tr>\n",
              "    <tr>\n",
              "      <th>target</th>\n",
              "      <th></th>\n",
              "    </tr>\n",
              "  </thead>\n",
              "  <tbody>\n",
              "    <tr>\n",
              "      <th>0</th>\n",
              "      <td>0.275641</td>\n",
              "    </tr>\n",
              "    <tr>\n",
              "      <th>1</th>\n",
              "      <td>0.724359</td>\n",
              "    </tr>\n",
              "  </tbody>\n",
              "</table>\n",
              "</div>\n",
              "      <button class=\"colab-df-convert\" onclick=\"convertToInteractive('df-d3b80cdb-be2a-46bd-870f-670073db02b0')\"\n",
              "              title=\"Convert this dataframe to an interactive table.\"\n",
              "              style=\"display:none;\">\n",
              "        \n",
              "  <svg xmlns=\"http://www.w3.org/2000/svg\" height=\"24px\"viewBox=\"0 0 24 24\"\n",
              "       width=\"24px\">\n",
              "    <path d=\"M0 0h24v24H0V0z\" fill=\"none\"/>\n",
              "    <path d=\"M18.56 5.44l.94 2.06.94-2.06 2.06-.94-2.06-.94-.94-2.06-.94 2.06-2.06.94zm-11 1L8.5 8.5l.94-2.06 2.06-.94-2.06-.94L8.5 2.5l-.94 2.06-2.06.94zm10 10l.94 2.06.94-2.06 2.06-.94-2.06-.94-.94-2.06-.94 2.06-2.06.94z\"/><path d=\"M17.41 7.96l-1.37-1.37c-.4-.4-.92-.59-1.43-.59-.52 0-1.04.2-1.43.59L10.3 9.45l-7.72 7.72c-.78.78-.78 2.05 0 2.83L4 21.41c.39.39.9.59 1.41.59.51 0 1.02-.2 1.41-.59l7.78-7.78 2.81-2.81c.8-.78.8-2.07 0-2.86zM5.41 20L4 18.59l7.72-7.72 1.47 1.35L5.41 20z\"/>\n",
              "  </svg>\n",
              "      </button>\n",
              "      \n",
              "  <style>\n",
              "    .colab-df-container {\n",
              "      display:flex;\n",
              "      flex-wrap:wrap;\n",
              "      gap: 12px;\n",
              "    }\n",
              "\n",
              "    .colab-df-convert {\n",
              "      background-color: #E8F0FE;\n",
              "      border: none;\n",
              "      border-radius: 50%;\n",
              "      cursor: pointer;\n",
              "      display: none;\n",
              "      fill: #1967D2;\n",
              "      height: 32px;\n",
              "      padding: 0 0 0 0;\n",
              "      width: 32px;\n",
              "    }\n",
              "\n",
              "    .colab-df-convert:hover {\n",
              "      background-color: #E2EBFA;\n",
              "      box-shadow: 0px 1px 2px rgba(60, 64, 67, 0.3), 0px 1px 3px 1px rgba(60, 64, 67, 0.15);\n",
              "      fill: #174EA6;\n",
              "    }\n",
              "\n",
              "    [theme=dark] .colab-df-convert {\n",
              "      background-color: #3B4455;\n",
              "      fill: #D2E3FC;\n",
              "    }\n",
              "\n",
              "    [theme=dark] .colab-df-convert:hover {\n",
              "      background-color: #434B5C;\n",
              "      box-shadow: 0px 1px 3px 1px rgba(0, 0, 0, 0.15);\n",
              "      filter: drop-shadow(0px 1px 2px rgba(0, 0, 0, 0.3));\n",
              "      fill: #FFFFFF;\n",
              "    }\n",
              "  </style>\n",
              "\n",
              "      <script>\n",
              "        const buttonEl =\n",
              "          document.querySelector('#df-d3b80cdb-be2a-46bd-870f-670073db02b0 button.colab-df-convert');\n",
              "        buttonEl.style.display =\n",
              "          google.colab.kernel.accessAllowed ? 'block' : 'none';\n",
              "\n",
              "        async function convertToInteractive(key) {\n",
              "          const element = document.querySelector('#df-d3b80cdb-be2a-46bd-870f-670073db02b0');\n",
              "          const dataTable =\n",
              "            await google.colab.kernel.invokeFunction('convertToInteractive',\n",
              "                                                     [key], {});\n",
              "          if (!dataTable) return;\n",
              "\n",
              "          const docLinkHtml = 'Like what you see? Visit the ' +\n",
              "            '<a target=\"_blank\" href=https://colab.research.google.com/notebooks/data_table.ipynb>data table notebook</a>'\n",
              "            + ' to learn more about interactive tables.';\n",
              "          element.innerHTML = '';\n",
              "          dataTable['output_type'] = 'display_data';\n",
              "          await google.colab.output.renderOutput(dataTable, element);\n",
              "          const docLink = document.createElement('div');\n",
              "          docLink.innerHTML = docLinkHtml;\n",
              "          element.appendChild(docLink);\n",
              "        }\n",
              "      </script>\n",
              "    </div>\n",
              "  </div>\n",
              "  "
            ]
          },
          "metadata": {},
          "execution_count": 17
        }
      ]
    },
    {
      "cell_type": "code",
      "source": [
        "female_diseased_proportion = cross_tab['Female'].loc[1]\n",
        "female_diseased_proportion"
      ],
      "metadata": {
        "colab": {
          "base_uri": "https://localhost:8080/"
        },
        "id": "mISlTKIRUfU7",
        "outputId": "ef832ddd-5aab-4738-f081-0aaa091b58c8"
      },
      "execution_count": null,
      "outputs": [
        {
          "output_type": "execute_result",
          "data": {
            "text/plain": [
              "0.7243589743589743"
            ]
          },
          "metadata": {},
          "execution_count": 18
        }
      ]
    },
    {
      "cell_type": "markdown",
      "source": [
        "#### Step 2: Next, we determine the margin of error, which accounts for the uncertainty in the estimate. The margin of error depends on the desired level of confidence and the variability of the data. In our case, the confidence level is 95%. It is important to note common confidence levels have benchmarked z-scores.\n",
        "\n",
        "| Confidence level     | Z-score |\n",
        "| -------------------- | ----------- |\n",
        "| 90%                  | 1.645    |\n",
        "| 95%                  | 1.96     |\n",
        "| 98%                  | 2.33       |\n",
        "| 99%                  | 2.575       |\n",
        "\n",
        "**What is the signficance of the z-score?**\n",
        "\n",
        "A z-score measures the distance between a data point and the mean using standard deviations. Z-scores can be positive or negative. The sign tells you whether the observation is above or below the mean. For example, a z-score of `+2` indicates that the data point falls `two standard deviations above the mean`, while a `-2` signifies it is `two standard deviations below the mean`. A z-score of `zero equals the mean`. This measure is important because it tells where your observation lies relative to the entire distribution of data.\n",
        "\n",
        "\n"
      ],
      "metadata": {
        "id": "2LR4sl5tHrI6"
      }
    },
    {
      "cell_type": "markdown",
      "source": [
        "The formula for standard error of a sample proportion is denoted by:\n",
        "$$  Standard Error = \\sqrt{\\frac{(p(1-p))}{n}}$$\n",
        "  - where n is the number of samples and p is the proportion we are testing for.\n",
        "\n",
        "The margin of error is then defined as: `z-score * standard error`.\n",
        "\n",
        "Let's obtain the standard error first:"
      ],
      "metadata": {
        "id": "9KKyXehjsStK"
      }
    },
    {
      "cell_type": "code",
      "source": [
        "n_female = female.shape[0] #sample size: Total number of females\n",
        "\n",
        "#compute standard error\n",
        "se_female = np.sqrt(female_diseased_proportion * (1 - female_diseased_proportion) / n_female)\n",
        "print(f\"The standard error {se_female}\")"
      ],
      "metadata": {
        "colab": {
          "base_uri": "https://localhost:8080/"
        },
        "id": "oqFjsM7tHxZt",
        "outputId": "a44d87f1-0c31-447d-a3ee-9bbb939ec72a"
      },
      "execution_count": null,
      "outputs": [
        {
          "output_type": "stream",
          "name": "stdout",
          "text": [
            "The standard error 0.02529714756803247\n"
          ]
        }
      ]
    },
    {
      "cell_type": "code",
      "source": [
        "z_score = 1.96 #benchmarked z-score for 95% confidence level\n",
        "error_margin = se_female * z_score"
      ],
      "metadata": {
        "id": "jFUqqopNYp3C"
      },
      "execution_count": null,
      "outputs": []
    },
    {
      "cell_type": "markdown",
      "source": [
        "#### Step 3: Using the point estimate and the margin of error, we will construct the confidence interval. The confidence interval is typically symmetrical around the point estimate. It is expressed as `point estimate ± margin of error.` For our example, the point estimate is ~0.7243 and the margin of error is 2,000.\n",
        "\n",
        "Let's calculate the confidence interval:"
      ],
      "metadata": {
        "id": "NQIzE6taHx1x"
      }
    },
    {
      "cell_type": "code",
      "source": [
        "lower = female_diseased_proportion - error_margin #lower limit of the CI\n",
        "upper = female_diseased_proportion + error_margin #upper limit of the CI\n",
        "\n",
        "print(f\"The confidence interval is: ({lower},{upper})\")"
      ],
      "metadata": {
        "colab": {
          "base_uri": "https://localhost:8080/"
        },
        "id": "kqW62X6bH3H5",
        "outputId": "b319be45-931f-4937-967f-4dff93df998d"
      },
      "execution_count": null,
      "outputs": [
        {
          "output_type": "stream",
          "name": "stdout",
          "text": [
            "The confidence interval is: (0.6747765651256307,0.773941383592318)\n"
          ]
        }
      ]
    },
    {
      "cell_type": "markdown",
      "source": [
        "#### Enter Statsmodel!\n",
        "Remember the python package that we intend to leverage? We can tie all of this steps and obtain the confidence interval with a single line of code using the [stats.proportion_confint()](https://www.statsmodels.org/dev/generated/statsmodels.stats.proportion.proportion_confint.html) function. We will pass in the following parameters:\n",
        "- count: number of diseased females.\n",
        "- nobs: total number of females.\n",
        "- alpha: significance level, this is represented as 1-(confidence_level/100)."
      ],
      "metadata": {
        "id": "dmP9V2gjZaBw"
      }
    },
    {
      "cell_type": "code",
      "source": [
        "import statsmodels.api as sm\n",
        "sm.stats.proportion_confint(count = n_female * female_diseased_proportion, nobs= n_female, alpha= 0.05)"
      ],
      "metadata": {
        "colab": {
          "base_uri": "https://localhost:8080/"
        },
        "id": "j7laEb-eZKxd",
        "outputId": "5857f318-c106-4a3d-c1c8-29c87d39793f"
      },
      "execution_count": null,
      "outputs": [
        {
          "output_type": "execute_result",
          "data": {
            "text/plain": [
              "(0.6747774762140357, 0.773940472503913)"
            ]
          },
          "metadata": {},
          "execution_count": 22
        }
      ]
    },
    {
      "cell_type": "markdown",
      "source": [
        "#### Confidence Interval of a mean measure\n",
        "\n",
        "Let's try another example. we will calculate the confidence interval of the mean cholesterol level of the male population using a confidence level of 95%.\n",
        "- For clarity on confidence interval on mean scores,  see [confidence interval](https://youtu.be/ENnlSlvQHO0)."
      ],
      "metadata": {
        "id": "jV5ZMcRWbyd0"
      }
    },
    {
      "cell_type": "code",
      "source": [
        "# Perform cross-tabulation and normalize by index (column-wise proportions)\n",
        "chol_average = heart_data.groupby(\"Gender\")['chol'].mean()\n",
        "\n",
        "Male_chol_average = chol_average.loc[\"Male\"]\n",
        "Male_chol_average\n"
      ],
      "metadata": {
        "colab": {
          "base_uri": "https://localhost:8080/"
        },
        "id": "QeCH9WqGZXu7",
        "outputId": "fa57f3f2-dffd-4dec-dd0d-49d2b51516ca"
      },
      "execution_count": null,
      "outputs": [
        {
          "output_type": "execute_result",
          "data": {
            "text/plain": [
              "239.23702664796633"
            ]
          },
          "metadata": {},
          "execution_count": 23
        }
      ]
    },
    {
      "cell_type": "markdown",
      "source": [
        "To calculate the standard error for a mean value, you can use the formula:\n",
        "\n",
        "$$  Standard Error = \\frac{(σ)}{sqrt(n)}$$\n",
        "n = sample size.\n",
        "Now let's compute the standard error:"
      ],
      "metadata": {
        "id": "7TmXk_70BLRU"
      }
    },
    {
      "cell_type": "code",
      "source": [
        "\n",
        "# Extract the data subset of interest: cholesterol levels of male patients\n",
        "data = heart_data[heart_data[\"Gender\"] == 'Male']['chol']\n",
        "\n",
        "#compute standard error\n",
        "SE = data.std()/np.sqrt(data.shape[0])\n",
        "print(f\"standard error: {SE}\")\n",
        "\n"
      ],
      "metadata": {
        "colab": {
          "base_uri": "https://localhost:8080/"
        },
        "id": "NtW6Ny-XB-XS",
        "outputId": "b6d583f4-bcc7-4697-88ba-68ccefe14671"
      },
      "execution_count": null,
      "outputs": [
        {
          "output_type": "stream",
          "name": "stdout",
          "text": [
            "standard error: 1.6161874865791188\n"
          ]
        }
      ]
    },
    {
      "cell_type": "markdown",
      "source": [
        "Compute the confidence interval:"
      ],
      "metadata": {
        "id": "Cq8mdGBqefwX"
      }
    },
    {
      "cell_type": "code",
      "source": [
        "z_score = 1.96 #benchmarked z-score for 95% confidence level\n",
        "error_margin = SE * z_score\n",
        "\n",
        "lower = Male_chol_average - error_margin #lower limit of the CI\n",
        "upper = Male_chol_average + error_margin #upper limit of the CI\n",
        "\n",
        "print(f\"The confidence interval is: ({lower},{upper})\")"
      ],
      "metadata": {
        "colab": {
          "base_uri": "https://localhost:8080/"
        },
        "id": "NGQqUNfVcYGE",
        "outputId": "d75271e3-ac8a-411c-db17-fb1735694a15"
      },
      "execution_count": null,
      "outputs": [
        {
          "output_type": "stream",
          "name": "stdout",
          "text": [
            "The confidence interval is: (236.06929917427126,242.4047541216614)\n"
          ]
        }
      ]
    },
    {
      "cell_type": "markdown",
      "source": [
        "Using the statsmodel library:\n",
        "Here we will use the `.tconfint_mean()` function. This function is different from the one we used earlier. This function applies to cases where you are interested in getting the confidence intervals on mean values"
      ],
      "metadata": {
        "id": "H3x1gNmkecQf"
      }
    },
    {
      "cell_type": "code",
      "source": [
        "\n",
        "# Calculate the confidence interval using statsmodels\n",
        "confidence_interval = sm.stats.DescrStatsW(data).tconfint_mean(alpha=0.05)\n",
        "\n",
        "print(\"Confidence Interval:\", confidence_interval)"
      ],
      "metadata": {
        "colab": {
          "base_uri": "https://localhost:8080/"
        },
        "id": "-EfxlcmQeRpt",
        "outputId": "2a58efd6-2ca7-435c-8776-d60d5cdeada5"
      },
      "execution_count": null,
      "outputs": [
        {
          "output_type": "stream",
          "name": "stdout",
          "text": [
            "Confidence Interval: (236.06396349142227, 242.4100898045104)\n"
          ]
        }
      ]
    },
    {
      "cell_type": "markdown",
      "source": [
        "### Interpreting Confidence Intervals\n",
        "\n",
        "A confidence interval has a single purpose – to estimate an unknown parameter based on data in a random sample. In the last section, we said that the interval (67%, 77%) was an approximate 95% confidence interval for the percentage of diseased females among others in the population. That was a formal way of saying that by our estimate, the percent of diseased patients among the females in the population was somewhere between 67% and 77%, and that our process of estimation is correct about 95% of the time."
      ],
      "metadata": {
        "id": "M6r5qcMH1KfY"
      }
    },
    {
      "cell_type": "markdown",
      "source": [
        "#Hypothesis Testing\n",
        "\n",
        "A hypothesis can be seen as an educated guess about something in the world that can be tested by an experiment or through observations. In the general, a hypothesis statement would look like this:\n",
        "\n",
        "```\n",
        "If I do X to an independent variable then Y will happen to the dependent variable.\n",
        "```\n",
        "\n",
        "Winning a hypothesis test often involves rejection. The idea is to build a null hypothesis statement from the given data and conclude that on presenting new evidence, the initially built hypothesis was wrong. A null hypothesis often looks like a statement. For instance, a researcher states that if knee surgery patients perform physiotherapy twice every week (as opposed to four times) their recovery will be faster. To reject this, we need new evidence and tests that will prove otherwise, stating physiotherapy twice a week does not result in faster healing."
      ],
      "metadata": {
        "id": "YO0QF_50fPlV"
      }
    },
    {
      "cell_type": "markdown",
      "source": [
        "The first step in hypothesis testing is to set up two competing hypotheses. The hypotheses are the most important aspect. If the hypotheses are incorrect, your conclusion will also be incorrect.\n",
        "\n",
        "The two hypotheses are named the null hypothesis and the alternative hypothesis.\n",
        "\n",
        "- **Null hypothesis:**\n",
        "The null hypothesis is typically denoted as `Ho` The null hypothesis states the \"status quo\". This hypothesis is assumed to be true until there is evidence to suggest otherwise.\n",
        "\n",
        "- **Alternative hypothesis:**\n",
        "The alternative hypothesis is typically denoted as `H1`. This is the statement that one wants to conclude.\n",
        "\n",
        "The goal of hypothesis testing is to see if there is enough evidence against the null hypothesis. In other words, to see if there is enough evidence to reject the null hypothesis. If there is not enough evidence, then we fail to reject the null hypothesis.\n",
        "\n",
        "Here are some resources to help you out with understanding the fundamentals:\n",
        "\n",
        "- [Idea behind Hypothesis Testing](https://youtu.be/cn4S3QqEBRg)\n",
        "- [P-value and significance test](https://youtu.be/KS6KEWaoOOE)\n",
        "- [Hypothesis Testing and the Null Hypothesis](https://youtu.be/0oc49DyA3hU)"
      ],
      "metadata": {
        "id": "amfNXfRkLzNS"
      }
    },
    {
      "cell_type": "markdown",
      "source": [
        "# A/B Testing\n",
        "\n",
        "\n",
        "A/B testing, also known as split testing, is a statistical technique used to compare two groups, to determine which one performs better in terms of a specific goal or outcome. In an A/B test, two variants, typically labeled as A and B, are randomly assigned to different groups of users or visitors. The groups are then exposed to either version A or B, and their behavior or responses are measured and analyzed. By comparing the performance metrics of the two variants, such as conversion rates or click-through rates, statistical inference can be made to determine if there is a significant difference between them.\n",
        "\n",
        "**Case Study:** A medical teaching hospital believes that high cholesterol levels is a vital indication of heart disease risk. This belief suggests that patients with cholesterol levels are at risk of developing a heart disease. They will likely use this information to inform their medical decisions and recommendations.\n",
        "\n",
        "As a data scientist, they want you to verify their claim using hypothesis testing."
      ],
      "metadata": {
        "id": "YDh7xpN3g4nu"
      }
    },
    {
      "cell_type": "markdown",
      "source": [
        "#### Step 1\n",
        "\n",
        "**State the null hypothesis (H0) and alternative hypothesis (H1):** The null hypothesis is a statement of no effect or no difference, while the alternative hypothesis is the statement we want to test, usually suggesting that there is an effect or difference."
      ],
      "metadata": {
        "id": "dWyxZ_sjMfh2"
      }
    },
    {
      "cell_type": "markdown",
      "source": [
        "You are going to conduct a hypothesis test with the following null and alternative hypotheses:\n",
        "\n",
        "- **Null Hypothesis**: There is no significant difference in the cholesterol levels in patients with heart disease and those without.\n",
        "- **Alternative Hypothesis**: The presence of heart disease is significantly impacted by cholestrol levels."
      ],
      "metadata": {
        "id": "-auyZOx0OXB6"
      }
    },
    {
      "cell_type": "markdown",
      "source": [
        "#### Step 2\n",
        "\n",
        "**Set the significance level (α):** The significance level, denoted by α, is the probability of rejecting the null hypothesis when it is actually true. Commonly used values for α are 0.05 (5%) or 0.01 (1%)."
      ],
      "metadata": {
        "id": "XdFa7qfFM3LI"
      }
    },
    {
      "cell_type": "markdown",
      "source": [
        "In most cases, hypothesis testing is done with a confidence level of 95% (i.e 0.05 significant level)."
      ],
      "metadata": {
        "id": "B1Xv1kEVOX3G"
      }
    },
    {
      "cell_type": "markdown",
      "source": [
        "#### Step 3\n",
        "\n",
        "**Determine the test statistic:** Choose an appropriate test statistic that is relevant to the hypothesis being tested. The choice of test statistic depends on factors such as the type of data (e.g., categorical or continuous) and the specific hypothesis being tested."
      ],
      "metadata": {
        "id": "2_yZGjaxMoOc"
      }
    },
    {
      "cell_type": "markdown",
      "source": [
        "**Test statistic choice:** A suitable test statistic for investigating the influence of cholestrol level on diseased and healthy patients is the `average cholestrol level` for each group. By comparing this difference to the null hypothesis, which assumes no significant difference in cholesterol based on the presence of heart disease, we can determine if there is enough evidence to support the alternative hypothesis."
      ],
      "metadata": {
        "id": "0ipIowulN3By"
      }
    },
    {
      "cell_type": "markdown",
      "source": [
        "#### Step 4\n",
        "**Calculate the observed test statistic**"
      ],
      "metadata": {
        "id": "EE6MX_TSNTCn"
      }
    },
    {
      "cell_type": "markdown",
      "source": [
        "This is the first step of your hypothesis test. We will begin by extracting the groups of interest `healthy` and `diseased` patients in our dataset. This is because our hypothesis test revolves around these two groups."
      ],
      "metadata": {
        "id": "Tu-WUplyfjyF"
      }
    },
    {
      "cell_type": "code",
      "source": [
        "# Define the groups based on marital status\n",
        "healthy_group = heart_data[heart_data['target'] == 0]\n",
        "diseased_group = heart_data[heart_data['target'] == 1]"
      ],
      "metadata": {
        "id": "PVaNU_X8N4CA"
      },
      "execution_count": null,
      "outputs": []
    },
    {
      "cell_type": "markdown",
      "source": [
        "Next, we will compute the observed test statistic. This is the actual difference between the mean cholestrol level of patients belonging to these groups."
      ],
      "metadata": {
        "id": "82MPKqK9f8cK"
      }
    },
    {
      "cell_type": "code",
      "source": [
        "observed_statistic = diseased_group['chol'].mean() - healthy_group['chol'].mean()\n",
        "observed_statistic"
      ],
      "metadata": {
        "colab": {
          "base_uri": "https://localhost:8080/"
        },
        "id": "_ujf3zJhgKE1",
        "outputId": "242f97eb-4bb1-4625-d540-707c563f5d95"
      },
      "execution_count": null,
      "outputs": [
        {
          "output_type": "execute_result",
          "data": {
            "text/plain": [
              "-10.313497717869211"
            ]
          },
          "metadata": {},
          "execution_count": 28
        }
      ]
    },
    {
      "cell_type": "markdown",
      "source": [
        "#### Step 5\n",
        "**Run trials and calculate simulated test statistic:** We will create the different versions of our dataset, by shuffling the `target` column. This helps ensure that only one property is changed between the groups to isolate the impact of that particular change. Now, think of the entire dataset as a population. We will now draw samples from the dataset, shuffle the target labels for these samples and calculate the test statistic value for these set of samples."
      ],
      "metadata": {
        "id": "5DztK62Keii4"
      }
    },
    {
      "cell_type": "markdown",
      "source": [
        "**Why do we run simulation trials?**\n",
        "\n",
        "Running multiple simulation trials in hypothesis testing serves several purposes. First, it helps assess the variability of results and determine the likelihood of obtaining a specific outcome by chance alone. Second, simulations allow for estimating statistical power, which measures the ability of a test to detect true effects. Additionally, these trials help evaluate the rates of `Type I and Type II errors`, providing insights into the reliability of the test. Lastly, simulations allow researchers to test the robustness of assumptions made in statistical procedures. Overall, conducting multiple simulation trials enhances understanding, improves decision-making, and strengthens the validity of hypothesis testing.\n",
        "\n",
        "**what are Type I and Type II errors?**\n",
        "- **Type I Error (False Positive)**: This error occurs when the null hypothesis is true, but we incorrectly reject it in favor of the alternative hypothesis. In other words, we conclude that there is a significant effect or relationship when, in reality, there isn't one.\n",
        "\n",
        "- **Type II Error (False Negative):** This error occurs when the null hypothesis is false, but we fail to reject it and incorrectly accept the null hypothesis. In this case, we conclude that there is no significant effect or relationship when, in reality, there is one."
      ],
      "metadata": {
        "id": "9GQy20yBorCM"
      }
    },
    {
      "cell_type": "markdown",
      "source": [
        "Let's create a dataset subset, we will sample a total number of 300 instances (rows) (without replacement) for each of the groups and recombine into a single data subset `sampled_heart_data`."
      ],
      "metadata": {
        "id": "jDtt-vlHhxl1"
      }
    },
    {
      "cell_type": "code",
      "source": [
        "# Perform hypothesis testing\n",
        "sample_size = 300  # Define the sample size for each group\n",
        "\n",
        "#Create a subset of the single_group and the married_group\n",
        "healthy_subset = healthy_group.sample(n=sample_size, replace= False)\n",
        "diseased_subset = diseased_group.sample(n=sample_size, replace= False)\n",
        "\n",
        "\n",
        "#Combine data to create a balanced subset with only the relevant columns: `Risk_Flag` and `Marital Status` (You do not have to do this on a single line!)\n",
        "combined = pd.concat([healthy_subset, diseased_subset], ignore_index=True)\n",
        "sampled_heart_data = combined[['chol', 'target']]\n",
        "sampled_heart_data.head()\n"
      ],
      "metadata": {
        "colab": {
          "base_uri": "https://localhost:8080/",
          "height": 206
        },
        "id": "B50jISDHiF9K",
        "outputId": "93128da1-e0dd-4f06-a08d-646324e15107"
      },
      "execution_count": null,
      "outputs": [
        {
          "output_type": "execute_result",
          "data": {
            "text/plain": [
              "   chol  target\n",
              "0   294       0\n",
              "1   254       0\n",
              "2   204       0\n",
              "3   268       0\n",
              "4   164       0"
            ],
            "text/html": [
              "\n",
              "  <div id=\"df-2be428ee-af68-4413-a5f9-efa8d5ea9901\">\n",
              "    <div class=\"colab-df-container\">\n",
              "      <div>\n",
              "<style scoped>\n",
              "    .dataframe tbody tr th:only-of-type {\n",
              "        vertical-align: middle;\n",
              "    }\n",
              "\n",
              "    .dataframe tbody tr th {\n",
              "        vertical-align: top;\n",
              "    }\n",
              "\n",
              "    .dataframe thead th {\n",
              "        text-align: right;\n",
              "    }\n",
              "</style>\n",
              "<table border=\"1\" class=\"dataframe\">\n",
              "  <thead>\n",
              "    <tr style=\"text-align: right;\">\n",
              "      <th></th>\n",
              "      <th>chol</th>\n",
              "      <th>target</th>\n",
              "    </tr>\n",
              "  </thead>\n",
              "  <tbody>\n",
              "    <tr>\n",
              "      <th>0</th>\n",
              "      <td>294</td>\n",
              "      <td>0</td>\n",
              "    </tr>\n",
              "    <tr>\n",
              "      <th>1</th>\n",
              "      <td>254</td>\n",
              "      <td>0</td>\n",
              "    </tr>\n",
              "    <tr>\n",
              "      <th>2</th>\n",
              "      <td>204</td>\n",
              "      <td>0</td>\n",
              "    </tr>\n",
              "    <tr>\n",
              "      <th>3</th>\n",
              "      <td>268</td>\n",
              "      <td>0</td>\n",
              "    </tr>\n",
              "    <tr>\n",
              "      <th>4</th>\n",
              "      <td>164</td>\n",
              "      <td>0</td>\n",
              "    </tr>\n",
              "  </tbody>\n",
              "</table>\n",
              "</div>\n",
              "      <button class=\"colab-df-convert\" onclick=\"convertToInteractive('df-2be428ee-af68-4413-a5f9-efa8d5ea9901')\"\n",
              "              title=\"Convert this dataframe to an interactive table.\"\n",
              "              style=\"display:none;\">\n",
              "        \n",
              "  <svg xmlns=\"http://www.w3.org/2000/svg\" height=\"24px\"viewBox=\"0 0 24 24\"\n",
              "       width=\"24px\">\n",
              "    <path d=\"M0 0h24v24H0V0z\" fill=\"none\"/>\n",
              "    <path d=\"M18.56 5.44l.94 2.06.94-2.06 2.06-.94-2.06-.94-.94-2.06-.94 2.06-2.06.94zm-11 1L8.5 8.5l.94-2.06 2.06-.94-2.06-.94L8.5 2.5l-.94 2.06-2.06.94zm10 10l.94 2.06.94-2.06 2.06-.94-2.06-.94-.94-2.06-.94 2.06-2.06.94z\"/><path d=\"M17.41 7.96l-1.37-1.37c-.4-.4-.92-.59-1.43-.59-.52 0-1.04.2-1.43.59L10.3 9.45l-7.72 7.72c-.78.78-.78 2.05 0 2.83L4 21.41c.39.39.9.59 1.41.59.51 0 1.02-.2 1.41-.59l7.78-7.78 2.81-2.81c.8-.78.8-2.07 0-2.86zM5.41 20L4 18.59l7.72-7.72 1.47 1.35L5.41 20z\"/>\n",
              "  </svg>\n",
              "      </button>\n",
              "      \n",
              "  <style>\n",
              "    .colab-df-container {\n",
              "      display:flex;\n",
              "      flex-wrap:wrap;\n",
              "      gap: 12px;\n",
              "    }\n",
              "\n",
              "    .colab-df-convert {\n",
              "      background-color: #E8F0FE;\n",
              "      border: none;\n",
              "      border-radius: 50%;\n",
              "      cursor: pointer;\n",
              "      display: none;\n",
              "      fill: #1967D2;\n",
              "      height: 32px;\n",
              "      padding: 0 0 0 0;\n",
              "      width: 32px;\n",
              "    }\n",
              "\n",
              "    .colab-df-convert:hover {\n",
              "      background-color: #E2EBFA;\n",
              "      box-shadow: 0px 1px 2px rgba(60, 64, 67, 0.3), 0px 1px 3px 1px rgba(60, 64, 67, 0.15);\n",
              "      fill: #174EA6;\n",
              "    }\n",
              "\n",
              "    [theme=dark] .colab-df-convert {\n",
              "      background-color: #3B4455;\n",
              "      fill: #D2E3FC;\n",
              "    }\n",
              "\n",
              "    [theme=dark] .colab-df-convert:hover {\n",
              "      background-color: #434B5C;\n",
              "      box-shadow: 0px 1px 3px 1px rgba(0, 0, 0, 0.15);\n",
              "      filter: drop-shadow(0px 1px 2px rgba(0, 0, 0, 0.3));\n",
              "      fill: #FFFFFF;\n",
              "    }\n",
              "  </style>\n",
              "\n",
              "      <script>\n",
              "        const buttonEl =\n",
              "          document.querySelector('#df-2be428ee-af68-4413-a5f9-efa8d5ea9901 button.colab-df-convert');\n",
              "        buttonEl.style.display =\n",
              "          google.colab.kernel.accessAllowed ? 'block' : 'none';\n",
              "\n",
              "        async function convertToInteractive(key) {\n",
              "          const element = document.querySelector('#df-2be428ee-af68-4413-a5f9-efa8d5ea9901');\n",
              "          const dataTable =\n",
              "            await google.colab.kernel.invokeFunction('convertToInteractive',\n",
              "                                                     [key], {});\n",
              "          if (!dataTable) return;\n",
              "\n",
              "          const docLinkHtml = 'Like what you see? Visit the ' +\n",
              "            '<a target=\"_blank\" href=https://colab.research.google.com/notebooks/data_table.ipynb>data table notebook</a>'\n",
              "            + ' to learn more about interactive tables.';\n",
              "          element.innerHTML = '';\n",
              "          dataTable['output_type'] = 'display_data';\n",
              "          await google.colab.output.renderOutput(dataTable, element);\n",
              "          const docLink = document.createElement('div');\n",
              "          docLink.innerHTML = docLinkHtml;\n",
              "          element.appendChild(docLink);\n",
              "        }\n",
              "      </script>\n",
              "    </div>\n",
              "  </div>\n",
              "  "
            ]
          },
          "metadata": {},
          "execution_count": 29
        }
      ]
    },
    {
      "cell_type": "markdown",
      "source": [
        "It will be helpful to have a function that computes our test statistic from the combined dataset of samples drawn from our original data."
      ],
      "metadata": {
        "id": "OfzDtdjxi4WM"
      }
    },
    {
      "cell_type": "code",
      "source": [
        "def calculate_test_statistic(combined_data, target_col, numeric_col):\n",
        "    healthy_mean = combined_data[combined_data[target_col] == 0][numeric_col].mean()\n",
        "    diseased_mean = combined_data[combined_data[target_col] == 1][numeric_col].mean()\n",
        "    test_statistic = diseased_mean - healthy_mean\n",
        "    return test_statistic"
      ],
      "metadata": {
        "id": "OnLHYu5LjAtx"
      },
      "execution_count": null,
      "outputs": []
    },
    {
      "cell_type": "markdown",
      "source": [
        "Next, we will carry out 1000 permutation trials. In each trial, we will shuffle the `target` column and compute the test statistic, which is the difference in the mean cholesterol level is a of diseased and healthy patientsm. We will then store the result of each of trial in an array called `simulated_statistics_list`."
      ],
      "metadata": {
        "id": "X_3Q-ebLi2Oo"
      }
    },
    {
      "cell_type": "code",
      "source": [
        "repetitions = 1000  # Define the number of repetitions\n",
        "\n",
        "# Initialize an array to store the test statistics\n",
        "simulated_statistics_list = []\n",
        "np.random.seed(42)\n",
        "\n",
        "# simulate 1000 test statistics by shuffling the target column, computing statistics, and adding to the simulated_statistics_list\n",
        "for i in range(repetitions):\n",
        "    shuffled_group = sampled_heart_data.copy() #create a copy of the dataset of samples\n",
        "    shuffled_group['target'] = np.random.permutation(shuffled_group['target'])\n",
        "    test_statistic = calculate_test_statistic(shuffled_group, 'target', 'chol')\n",
        "    simulated_statistics_list.append(test_statistic)"
      ],
      "metadata": {
        "id": "iORZR2greYbw"
      },
      "execution_count": null,
      "outputs": []
    },
    {
      "cell_type": "markdown",
      "source": [
        "#### Step 5\n",
        "\n",
        "**Calculate the p-value:** The p-value is the probability of obtaining a test statistic as extreme as, or more extreme than, the observed test statistic, assuming that the null hypothesis is true. It measures the strength of evidence against the null hypothesis."
      ],
      "metadata": {
        "id": "k8Rby4LfNCaH"
      }
    },
    {
      "cell_type": "code",
      "source": [
        "p_value = (np.abs(simulated_statistics_list) >= np.abs(observed_statistic)).mean()\n",
        "\n",
        "# Print the results\n",
        "print(\"Observed Test Statistic:\", observed_statistic)\n",
        "print(\"P-value:\", p_value)"
      ],
      "metadata": {
        "id": "nVM4-ngfNycF",
        "colab": {
          "base_uri": "https://localhost:8080/"
        },
        "outputId": "65d81309-5a07-43fd-b7fc-6c9250825d1a"
      },
      "execution_count": null,
      "outputs": [
        {
          "output_type": "stream",
          "name": "stdout",
          "text": [
            "Observed Test Statistic: -10.313497717869211\n",
            "P-value: 0.009\n"
          ]
        }
      ]
    },
    {
      "cell_type": "markdown",
      "source": [
        "Now, let's plot the distribution of test statistics calculated during all of our simulation trials. We will also show the position of the observed (actual) test statistic for comparison."
      ],
      "metadata": {
        "id": "CU3qNjwBlhgD"
      }
    },
    {
      "cell_type": "code",
      "source": [
        "# if you would like to check the distribution of values from all trials, plot the simulated emperical distribution\n",
        "import matplotlib.pyplot as plt\n",
        "plt.hist(simulated_statistics_list, bins=30, edgecolor='black')\n",
        "plt.axvline(x=observed_statistic, color='red', linestyle='dashed', linewidth=2, label='Observed')\n",
        "plt.xlabel('Difference in Mean')\n",
        "plt.ylabel('Frequency')\n",
        "plt.title('Simulated Empirical Distribution')\n",
        "plt.legend()\n",
        "plt.show()"
      ],
      "metadata": {
        "colab": {
          "base_uri": "https://localhost:8080/",
          "height": 472
        },
        "id": "jgJQhnVzlhsf",
        "outputId": "0d0edc10-670e-421b-b18c-43862a461555"
      },
      "execution_count": null,
      "outputs": [
        {
          "output_type": "display_data",
          "data": {
            "text/plain": [
              "<Figure size 640x480 with 1 Axes>"
            ],
            "image/png": "[encoded data removed]"
          },
          "metadata": {}
        }
      ]
    },
    {
      "cell_type": "markdown",
      "source": [
        "#### Step 6\n",
        "\n",
        "**Compare the p-value with the significance level:**\n",
        "\n",
        "  - If the p-value is less than or equal to the significance level (p ≤ α), we reject the null hypothesis in favor of the alternative hypothesis.\n",
        "  - If the p-value is greater than the significance level (p > α), we fail to reject the null hypothesis."
      ],
      "metadata": {
        "id": "PkQAuQxFNgAC"
      }
    },
    {
      "cell_type": "code",
      "source": [
        "conclusion = ''\n",
        "significance_level = 0.05;\n",
        "if p_value <= significance_level:\n",
        "  conclusion = 'The p-value we observed is below the 5% cutoff, so we conclude that the data support the alternative hypothesis.'\n",
        "else:\n",
        "  conclusion = 'The p-value we observed is above the 5% cutoff, so we conclude that there is not enough evidence to reject the null hypothesis.'\n",
        "\n",
        "conclusion"
      ],
      "metadata": {
        "id": "8b-dgVqwfUX6",
        "colab": {
          "base_uri": "https://localhost:8080/",
          "height": 35
        },
        "outputId": "349f15bc-8936-4f09-bb1e-8ee4b08c6e46"
      },
      "execution_count": null,
      "outputs": [
        {
          "output_type": "execute_result",
          "data": {
            "text/plain": [
              "'The p-value we observed is below the 5% cutoff, so we conclude that the data support the alternative hypothesis.'"
            ],
            "application/vnd.google.colaboratory.intrinsic+json": {
              "type": "string"
            }
          },
          "metadata": {},
          "execution_count": 34
        }
      ]
    },
    {
      "cell_type": "markdown",
      "source": [
        "Now let's try out the same hypothesis testing with the `statsmodel` library!\n",
        "Statsmodel implements a two sample t-test is also known as the independent samples, independent, and unpaired t-test. Moreover, this type of statistical test compares two averages (means) and will give you information if these two means are statistically different from each other. The t-test also tells you whether the differences are statistically significant. In other words it lets you know if those differences could have happened by chance."
      ],
      "metadata": {
        "id": "qivydc9OoP9s"
      }
    },
    {
      "cell_type": "code",
      "source": [
        "import statsmodels.api as sm\n",
        "test_statistic, p_value, _ = sm.stats.ttest_ind(healthy_group['chol'],diseased_group['chol'])\n",
        "print(p_value)"
      ],
      "metadata": {
        "id": "ZRb9wkLUlZfp",
        "colab": {
          "base_uri": "https://localhost:8080/"
        },
        "outputId": "35274296-3038-4ec5-bbf5-72499476481d"
      },
      "execution_count": null,
      "outputs": [
        {
          "output_type": "stream",
          "name": "stdout",
          "text": [
            "0.0013525712504626976\n"
          ]
        }
      ]
    },
    {
      "cell_type": "markdown",
      "source": [
        "Now we have obtained a p-value which is less than the significance levle. Hence we conclude that data supports the alternative hypothesis."
      ],
      "metadata": {
        "id": "dF1XOhDtpBA0"
      }
    },
    {
      "cell_type": "markdown",
      "source": [
        "### Hypothesis Testing: Difference in Population Proportions\n",
        "\n",
        "\n",
        "Here are some resources to understand the Hypothesis testing for porportions:\n",
        "\n",
        "-\n",
        "\n"
      ],
      "metadata": {
        "id": "P5PGcVC0TWMk"
      }
    },
    {
      "cell_type": "markdown",
      "source": [
        "Let's look at the following research question: `Is there a significant difference between the population proportions of females that suffer from heart disease and male patients suffering from the same disease?`\n",
        "\n",
        "We will shape our hypotheses as:\n",
        "\n",
        "- **Null hypothesis: There is no significant difference between the proportion of females and males who have heart diseases**\n",
        "\n",
        "- **Alternative hypothesis: There exist a significant difference between the proportion of females and males who have heart diseases**\n",
        "\n",
        "**Test statistics of choice:** To conduct an hypothesis test using the  dataset, we will divide the dataset into two groups: female (Group A) and male (Group B) patients. The test statistic used in this test will be the difference in between the proportion of female and male patients who have heart diseases.\n",
        "\n",
        "For each group, you will count the number of diseased (target = 1) and divide it by the total number of individuals in that group. The difference in these proportion will serve as the test statistic."
      ],
      "metadata": {
        "id": "VlSI3XJDYw-F"
      }
    },
    {
      "cell_type": "code",
      "source": [
        "female = heart_data[heart_data[\"Gender\"] == \"Female\"]\n",
        "male = heart_data[heart_data[\"Gender\"] == \"Male\"]"
      ],
      "metadata": {
        "id": "LX9iXnknU6Nr"
      },
      "execution_count": null,
      "outputs": []
    },
    {
      "cell_type": "markdown",
      "source": [
        "We will create a subset of our dataset consisting of 200 random females patients and 200 random male patients. Think of our dataset as the population and the newly created subset as the sample.\n",
        "\n"
      ],
      "metadata": {
        "id": "6wMiOyszejFH"
      }
    },
    {
      "cell_type": "code",
      "source": [
        "# Perform hypothesis testing\n",
        "sample_size = 200  # Define the sample size for each group\n",
        "\n",
        "#Create a subset of the female_diseased and the male_diseased\n",
        "female_subset = female.sample(n=sample_size, replace= False)\n",
        "male_subset = male.sample(n=sample_size, replace= False)\n",
        "\n",
        "\n",
        "#Combine data to create a balanced subset with only the relevant columns: `Gender` and `target` (You do not have to do this on a single line!)\n",
        "combined = pd.concat([female_subset, male_subset], ignore_index=True)\n",
        "sampled_heart_data = combined[['Gender', 'target']]\n",
        "\n",
        "#Revert Gender to numerical: for proportion calculation purpose\n",
        "sampled_heart_data['Gender'].replace({'Male':0,\"Female\":1},inplace=True)\n",
        "sampled_heart_data.head()\n"
      ],
      "metadata": {
        "colab": {
          "base_uri": "https://localhost:8080/",
          "height": 293
        },
        "id": "esMUUTOLW10z",
        "outputId": "a8cb8eea-4d33-4a05-b34c-07154d290c5b"
      },
      "execution_count": null,
      "outputs": [
        {
          "output_type": "stream",
          "name": "stderr",
          "text": [
            "<ipython-input-37-40eac753918e>:14: SettingWithCopyWarning: \n",
            "A value is trying to be set on a copy of a slice from a DataFrame\n",
            "\n",
            "See the caveats in the documentation: https://pandas.pydata.org/pandas-docs/stable/user_guide/indexing.html#returning-a-view-versus-a-copy\n",
            "  sampled_heart_data['Gender'].replace({'Male':0,\"Female\":1},inplace=True)\n"
          ]
        },
        {
          "output_type": "execute_result",
          "data": {
            "text/plain": [
              "   Gender  target\n",
              "0       1       0\n",
              "1       1       0\n",
              "2       1       1\n",
              "3       1       0\n",
              "4       1       1"
            ],
            "text/html": [
              "\n",
              "  <div id=\"df-fd968f56-e568-491d-bbf3-762c761de2d5\">\n",
              "    <div class=\"colab-df-container\">\n",
              "      <div>\n",
              "<style scoped>\n",
              "    .dataframe tbody tr th:only-of-type {\n",
              "        vertical-align: middle;\n",
              "    }\n",
              "\n",
              "    .dataframe tbody tr th {\n",
              "        vertical-align: top;\n",
              "    }\n",
              "\n",
              "    .dataframe thead th {\n",
              "        text-align: right;\n",
              "    }\n",
              "</style>\n",
              "<table border=\"1\" class=\"dataframe\">\n",
              "  <thead>\n",
              "    <tr style=\"text-align: right;\">\n",
              "      <th></th>\n",
              "      <th>Gender</th>\n",
              "      <th>target</th>\n",
              "    </tr>\n",
              "  </thead>\n",
              "  <tbody>\n",
              "    <tr>\n",
              "      <th>0</th>\n",
              "      <td>1</td>\n",
              "      <td>0</td>\n",
              "    </tr>\n",
              "    <tr>\n",
              "      <th>1</th>\n",
              "      <td>1</td>\n",
              "      <td>0</td>\n",
              "    </tr>\n",
              "    <tr>\n",
              "      <th>2</th>\n",
              "      <td>1</td>\n",
              "      <td>1</td>\n",
              "    </tr>\n",
              "    <tr>\n",
              "      <th>3</th>\n",
              "      <td>1</td>\n",
              "      <td>0</td>\n",
              "    </tr>\n",
              "    <tr>\n",
              "      <th>4</th>\n",
              "      <td>1</td>\n",
              "      <td>1</td>\n",
              "    </tr>\n",
              "  </tbody>\n",
              "</table>\n",
              "</div>\n",
              "      <button class=\"colab-df-convert\" onclick=\"convertToInteractive('df-fd968f56-e568-491d-bbf3-762c761de2d5')\"\n",
              "              title=\"Convert this dataframe to an interactive table.\"\n",
              "              style=\"display:none;\">\n",
              "        \n",
              "  <svg xmlns=\"http://www.w3.org/2000/svg\" height=\"24px\"viewBox=\"0 0 24 24\"\n",
              "       width=\"24px\">\n",
              "    <path d=\"M0 0h24v24H0V0z\" fill=\"none\"/>\n",
              "    <path d=\"M18.56 5.44l.94 2.06.94-2.06 2.06-.94-2.06-.94-.94-2.06-.94 2.06-2.06.94zm-11 1L8.5 8.5l.94-2.06 2.06-.94-2.06-.94L8.5 2.5l-.94 2.06-2.06.94zm10 10l.94 2.06.94-2.06 2.06-.94-2.06-.94-.94-2.06-.94 2.06-2.06.94z\"/><path d=\"M17.41 7.96l-1.37-1.37c-.4-.4-.92-.59-1.43-.59-.52 0-1.04.2-1.43.59L10.3 9.45l-7.72 7.72c-.78.78-.78 2.05 0 2.83L4 21.41c.39.39.9.59 1.41.59.51 0 1.02-.2 1.41-.59l7.78-7.78 2.81-2.81c.8-.78.8-2.07 0-2.86zM5.41 20L4 18.59l7.72-7.72 1.47 1.35L5.41 20z\"/>\n",
              "  </svg>\n",
              "      </button>\n",
              "      \n",
              "  <style>\n",
              "    .colab-df-container {\n",
              "      display:flex;\n",
              "      flex-wrap:wrap;\n",
              "      gap: 12px;\n",
              "    }\n",
              "\n",
              "    .colab-df-convert {\n",
              "      background-color: #E8F0FE;\n",
              "      border: none;\n",
              "      border-radius: 50%;\n",
              "      cursor: pointer;\n",
              "      display: none;\n",
              "      fill: #1967D2;\n",
              "      height: 32px;\n",
              "      padding: 0 0 0 0;\n",
              "      width: 32px;\n",
              "    }\n",
              "\n",
              "    .colab-df-convert:hover {\n",
              "      background-color: #E2EBFA;\n",
              "      box-shadow: 0px 1px 2px rgba(60, 64, 67, 0.3), 0px 1px 3px 1px rgba(60, 64, 67, 0.15);\n",
              "      fill: #174EA6;\n",
              "    }\n",
              "\n",
              "    [theme=dark] .colab-df-convert {\n",
              "      background-color: #3B4455;\n",
              "      fill: #D2E3FC;\n",
              "    }\n",
              "\n",
              "    [theme=dark] .colab-df-convert:hover {\n",
              "      background-color: #434B5C;\n",
              "      box-shadow: 0px 1px 3px 1px rgba(0, 0, 0, 0.15);\n",
              "      filter: drop-shadow(0px 1px 2px rgba(0, 0, 0, 0.3));\n",
              "      fill: #FFFFFF;\n",
              "    }\n",
              "  </style>\n",
              "\n",
              "      <script>\n",
              "        const buttonEl =\n",
              "          document.querySelector('#df-fd968f56-e568-491d-bbf3-762c761de2d5 button.colab-df-convert');\n",
              "        buttonEl.style.display =\n",
              "          google.colab.kernel.accessAllowed ? 'block' : 'none';\n",
              "\n",
              "        async function convertToInteractive(key) {\n",
              "          const element = document.querySelector('#df-fd968f56-e568-491d-bbf3-762c761de2d5');\n",
              "          const dataTable =\n",
              "            await google.colab.kernel.invokeFunction('convertToInteractive',\n",
              "                                                     [key], {});\n",
              "          if (!dataTable) return;\n",
              "\n",
              "          const docLinkHtml = 'Like what you see? Visit the ' +\n",
              "            '<a target=\"_blank\" href=https://colab.research.google.com/notebooks/data_table.ipynb>data table notebook</a>'\n",
              "            + ' to learn more about interactive tables.';\n",
              "          element.innerHTML = '';\n",
              "          dataTable['output_type'] = 'display_data';\n",
              "          await google.colab.output.renderOutput(dataTable, element);\n",
              "          const docLink = document.createElement('div');\n",
              "          docLink.innerHTML = docLinkHtml;\n",
              "          element.appendChild(docLink);\n",
              "        }\n",
              "      </script>\n",
              "    </div>\n",
              "  </div>\n",
              "  "
            ]
          },
          "metadata": {},
          "execution_count": 37
        }
      ]
    },
    {
      "cell_type": "markdown",
      "source": [
        "Let's define the function for our test statistics:"
      ],
      "metadata": {
        "id": "Z4pKnEhqXpWb"
      }
    },
    {
      "cell_type": "code",
      "source": [
        "def difference_of_proportion(data):\n",
        "      \"\"\"Takes: name of table, a target column name, and the name of the\n",
        "      column that indicates the group to which each row belongs\n",
        "      Returns: Difference between the proportion of defaulters in the labeled groups\"\"\"\n",
        "      diseased = data[data['target']==1]\n",
        "      new_female_diseased = diseased[diseased['Gender']==0]\n",
        "      new_male_diseased = diseased[diseased['Gender']==1]\n",
        "      proportion_male_diseased = new_female_diseased.shape[0]/diseased.shape[0]\n",
        "      proportion_female_diseased = new_male_diseased.shape[0]/diseased.shape[0]\n",
        "      return proportion_female_diseased - proportion_male_diseased"
      ],
      "metadata": {
        "id": "zRJ10uekWvpp"
      },
      "execution_count": null,
      "outputs": []
    },
    {
      "cell_type": "markdown",
      "source": [
        "Next, we will run 1000 simulation trials. For every trials we will shuffle the `Gender` column. This is because we are interested in seeing the changes in proportion of diseased people with respect to gender."
      ],
      "metadata": {
        "id": "0NPao8f1bLvA"
      }
    },
    {
      "cell_type": "code",
      "source": [
        "repetitions = 1000  # Define the number of repetitions\n",
        "\n",
        "# Initialize an array to store the test statistics\n",
        "simulated_statistics_list2 = []\n",
        "np.random.seed(42)\n",
        "\n",
        "# simulate 1000 test statistics by shuffling the target column, computing statistics, and adding to the simulated_statistics_list\n",
        "for i in range(repetitions):\n",
        "    shuffled_group = sampled_heart_data.copy() #create a copy of the dataset of samples\n",
        "    shuffled_group['Gender'] = np.random.permutation(shuffled_group['Gender'])\n",
        "    test_statistic = difference_of_proportion(shuffled_group)\n",
        "    simulated_statistics_list2.append(test_statistic)"
      ],
      "metadata": {
        "id": "IL1gJ34FY4fR"
      },
      "execution_count": null,
      "outputs": []
    },
    {
      "cell_type": "markdown",
      "source": [
        "Now we will calculate the p-value and observed statistics. Remember, the observed statistic is just the test statistic function applied across the original dataset (and not simulated shuffled samples)."
      ],
      "metadata": {
        "id": "kIONkO7tbaX4"
      }
    },
    {
      "cell_type": "code",
      "source": [
        "#compute observed test statistic\n",
        "heart_data['Gender'].replace({'Male':0,\"Female\":1},inplace=True)\n",
        "Observed_statistic2 = difference_of_proportion(heart_data)\n",
        "\n",
        "#compute p-value\n",
        "p_value = (np.abs(simulated_statistics_list2) >= np.abs(Observed_statistic2)).mean()\n",
        "\n",
        "# Print the results\n",
        "print(\"Observed Test Statistic:\", Observed_statistic2)\n",
        "print(\"P-value:\", p_value)"
      ],
      "metadata": {
        "colab": {
          "base_uri": "https://localhost:8080/"
        },
        "id": "mZSqWTd8ZHcV",
        "outputId": "924dc145-af3c-42a9-e9c5-0dd45d2d6c93"
      },
      "execution_count": null,
      "outputs": [
        {
          "output_type": "stream",
          "name": "stdout",
          "text": [
            "Observed Test Statistic: -0.14068441064638781\n",
            "P-value: 0.0\n"
          ]
        }
      ]
    },
    {
      "cell_type": "markdown",
      "source": [
        "let's check the distribution of the simulated test statistic from all trials."
      ],
      "metadata": {
        "id": "aARaAKIUbw-p"
      }
    },
    {
      "cell_type": "code",
      "source": [
        "# if you would like to check the distribution of values from all trials, plot the simulated emperical distribution\n",
        "import matplotlib.pyplot as plt\n",
        "plt.hist(simulated_statistics_list2, bins=30, edgecolor='black')\n",
        "plt.axvline(x=Observed_statistic2, color='red', linestyle='dashed', linewidth=2, label='Observed')\n",
        "plt.xlabel('Difference in Proportion')\n",
        "plt.ylabel('Frequency')\n",
        "plt.title('Simulated Empirical Distribution')\n",
        "plt.legend()\n",
        "plt.show()"
      ],
      "metadata": {
        "colab": {
          "base_uri": "https://localhost:8080/",
          "height": 472
        },
        "id": "gjIA4z8iZlte",
        "outputId": "d3c7fce9-3aa2-49c9-c0bf-a0966a5797d5"
      },
      "execution_count": null,
      "outputs": [
        {
          "output_type": "display_data",
          "data": {
            "text/plain": [
              "<Figure size 640x480 with 1 Axes>"
            ],
            "image/png": "[encoded data removed]"
          },
          "metadata": {}
        }
      ]
    },
    {
      "cell_type": "markdown",
      "source": [
        "Conclusion: The data supports the alternative hypothesis"
      ],
      "metadata": {
        "id": "MKTJWFzMiZCE"
      }
    },
    {
      "cell_type": "markdown",
      "source": [
        "#### Statsmodel\n",
        "To perform hypothesis testing on proportions using the statsmodels library in Python, you can utilize the [proportions_ztest function](https://www.statsmodels.org/stable/generated/statsmodels.stats.proportion.proportions_ztest.html). This function allows you to test whether two proportions are significantly different or to compare a single proportion to a known value.\n",
        "This function takes in parameters similar to the [stats.proportion_confint()](https://www.statsmodels.org/dev/generated/statsmodels.stats.proportion.proportion_confint.html) function described in the confidence interval section. We will pass in the following parameters:\n",
        "- count: an array containing the total number of each subgroup of interest. e.g (diseased males and females).\n",
        "- nobs: an array containing the total number of each group of interest. e.g (males and females)."
      ],
      "metadata": {
        "id": "Aiy36QLUuVjo"
      }
    },
    {
      "cell_type": "code",
      "source": [
        "# Calculate the proportions of heart disease for males and females\n",
        "male_cases = len(male[male['target'] == 1])\n",
        "male_total = len(male)\n",
        "male_proportion = male_cases / male_total\n",
        "\n",
        "female_cases = len(female[female['target'] == 1])\n",
        "female_total = len(female)\n",
        "female_proportion = female_cases / female_total\n",
        "\n",
        "# Perform the hypothesis test\n",
        "count = np.array([male_cases, female_cases])\n",
        "nobs = np.array([male_total, female_total])\n",
        "\n",
        "z_score, p_value = sm.stats.proportions_ztest(count, nobs)\n",
        "print(\"Z-score:\", z_score)\n",
        "print(\"P-value:\", p_value)"
      ],
      "metadata": {
        "colab": {
          "base_uri": "https://localhost:8080/"
        },
        "id": "rQJ0zlZTuhbK",
        "outputId": "a4fb7ad2-2793-433b-9576-63351749415b"
      },
      "execution_count": null,
      "outputs": [
        {
          "output_type": "stream",
          "name": "stdout",
          "text": [
            "Z-score: -8.948390366994612\n",
            "P-value: 3.607034554789343e-19\n"
          ]
        }
      ]
    },
    {
      "cell_type": "markdown",
      "source": [
        "Conclusion: P-value is extremely small and less than 0.05. Hence, we conclude that the data supports the alternative hypothesis."
      ],
      "metadata": {
        "id": "svqkhsCKxT-6"
      }
    },
    {
      "cell_type": "markdown",
      "source": [
        "## Exercise\n",
        "Now you have learnt a number of things related to hypothesis testing, confidence intervals and basic descriptive statistics. Let's go through some exercises designed to test your understanding of the topics covered.\n",
        "\n",
        "### Dataset description:\n",
        "\n",
        "In this exercise, you will make use of the bike sharing dataset. Bike-sharing rental process is highly correlated to the environmental and seasonal settings. For instance, weather conditions, precipitation, day of week, season, hour of the day, etc, can affect the rental behaviors. This dataset contains bike sharing records of customers from Capital Bikeshare system, Washington D.C., USA. The duration is between 2011 and 2012.\n",
        "\n",
        "The features in the dataset includes:\n",
        "- instant: record index\n",
        "- dteday : date\n",
        "- season : season (1:springer, 2:summer, 3:fall, 4:winter)\n",
        "- yr : year (0: 2011, 1:2012)\n",
        "- mnth : month ( 1 to 12)\n",
        "- holiday : weather day is holiday or not.\n",
        "- weekday : day of the week\n",
        "- workingday : if day is neither weekend nor holiday is 1, otherwise is 0.\n",
        "+ weathersit :\n",
        "  - 1: Clear, Few clouds, Partly cloudy, Partly cloudy\n",
        "  - 2: Mist + Cloudy, Mist + Broken clouds, Mist + Few clouds, Mist\n",
        "  - 3: Light Snow, Light Rain + Thunderstorm + Scattered clouds, Light Rain + Scattered clouds\n",
        "  - 4: Heavy Rain + Ice Pallets + Thunderstorm + Mist, Snow + Fog\n",
        "- temp : Normalized temperature in Celsius. The values are divided to 41 (max)\n",
        "- atemp: Normalized feeling temperature in Celsius. The values are divided to 50 (max)\n",
        "- hum: Normalized humidity. The values are divided to 100 (max)\n",
        "- windspeed: Normalized wind speed. The values are divided to 67 (max)\n",
        "- casual: count of casual users\n",
        "- registered: count of registered users\n",
        "- cnt: count of total rental bikes including both casual and registered"
      ],
      "metadata": {
        "id": "vYIoFRTvms2J"
      }
    },
    {
      "cell_type": "markdown",
      "source": [
        "First, we will load the dataset:"
      ],
      "metadata": {
        "id": "Lj934Nlvm_wN"
      }
    },
    {
      "cell_type": "code",
      "source": [
        "import pandas as pd\n",
        "data = pd.read_csv(\"bike_sharing.csv\")\n",
        "data.head()"
      ],
      "metadata": {
        "id": "Khs3KnxRnKCt",
        "colab": {
          "base_uri": "https://localhost:8080/",
          "height": 206
        },
        "outputId": "0ad0149e-40cf-4799-f846-f81825bea888"
      },
      "execution_count": null,
      "outputs": [
        {
          "output_type": "execute_result",
          "data": {
            "text/plain": [
              "   instant      dteday  season  yr  mnth  holiday  weekday  workingday  \\\n",
              "0        1  2011-01-01       1   0     1        0        6           0   \n",
              "1        2  2011-01-02       1   0     1        0        0           0   \n",
              "2        3  2011-01-03       1   0     1        0        1           1   \n",
              "3        4  2011-01-04       1   0     1        0        2           1   \n",
              "4        5  2011-01-05       1   0     1        0        3           1   \n",
              "\n",
              "   weathersit      temp     atemp       hum  windspeed  casual  registered  \\\n",
              "0           2  0.344167  0.363625  0.805833   0.160446     331         654   \n",
              "1           2  0.363478  0.353739  0.696087   0.248539     131         670   \n",
              "2           1  0.196364  0.189405  0.437273   0.248309     120        1229   \n",
              "3           1  0.200000  0.212122  0.590435   0.160296     108        1454   \n",
              "4           1  0.226957  0.229270  0.436957   0.186900      82        1518   \n",
              "\n",
              "    cnt  \n",
              "0   985  \n",
              "1   801  \n",
              "2  1349  \n",
              "3  1562  \n",
              "4  1600  "
            ],
            "text/html": [
              "\n",
              "\n",
              "  <div id=\"df-efa62792-da99-4e14-ae0b-a79a959e35c1\">\n",
              "    <div class=\"colab-df-container\">\n",
              "      <div>\n",
              "<style scoped>\n",
              "    .dataframe tbody tr th:only-of-type {\n",
              "        vertical-align: middle;\n",
              "    }\n",
              "\n",
              "    .dataframe tbody tr th {\n",
              "        vertical-align: top;\n",
              "    }\n",
              "\n",
              "    .dataframe thead th {\n",
              "        text-align: right;\n",
              "    }\n",
              "</style>\n",
              "<table border=\"1\" class=\"dataframe\">\n",
              "  <thead>\n",
              "    <tr style=\"text-align: right;\">\n",
              "      <th></th>\n",
              "      <th>instant</th>\n",
              "      <th>dteday</th>\n",
              "      <th>season</th>\n",
              "      <th>yr</th>\n",
              "      <th>mnth</th>\n",
              "      <th>holiday</th>\n",
              "      <th>weekday</th>\n",
              "      <th>workingday</th>\n",
              "      <th>weathersit</th>\n",
              "      <th>temp</th>\n",
              "      <th>atemp</th>\n",
              "      <th>hum</th>\n",
              "      <th>windspeed</th>\n",
              "      <th>casual</th>\n",
              "      <th>registered</th>\n",
              "      <th>cnt</th>\n",
              "    </tr>\n",
              "  </thead>\n",
              "  <tbody>\n",
              "    <tr>\n",
              "      <th>0</th>\n",
              "      <td>1</td>\n",
              "      <td>2011-01-01</td>\n",
              "      <td>1</td>\n",
              "      <td>0</td>\n",
              "      <td>1</td>\n",
              "      <td>0</td>\n",
              "      <td>6</td>\n",
              "      <td>0</td>\n",
              "      <td>2</td>\n",
              "      <td>0.344167</td>\n",
              "      <td>0.363625</td>\n",
              "      <td>0.805833</td>\n",
              "      <td>0.160446</td>\n",
              "      <td>331</td>\n",
              "      <td>654</td>\n",
              "      <td>985</td>\n",
              "    </tr>\n",
              "    <tr>\n",
              "      <th>1</th>\n",
              "      <td>2</td>\n",
              "      <td>2011-01-02</td>\n",
              "      <td>1</td>\n",
              "      <td>0</td>\n",
              "      <td>1</td>\n",
              "      <td>0</td>\n",
              "      <td>0</td>\n",
              "      <td>0</td>\n",
              "      <td>2</td>\n",
              "      <td>0.363478</td>\n",
              "      <td>0.353739</td>\n",
              "      <td>0.696087</td>\n",
              "      <td>0.248539</td>\n",
              "      <td>131</td>\n",
              "      <td>670</td>\n",
              "      <td>801</td>\n",
              "    </tr>\n",
              "    <tr>\n",
              "      <th>2</th>\n",
              "      <td>3</td>\n",
              "      <td>2011-01-03</td>\n",
              "      <td>1</td>\n",
              "      <td>0</td>\n",
              "      <td>1</td>\n",
              "      <td>0</td>\n",
              "      <td>1</td>\n",
              "      <td>1</td>\n",
              "      <td>1</td>\n",
              "      <td>0.196364</td>\n",
              "      <td>0.189405</td>\n",
              "      <td>0.437273</td>\n",
              "      <td>0.248309</td>\n",
              "      <td>120</td>\n",
              "      <td>1229</td>\n",
              "      <td>1349</td>\n",
              "    </tr>\n",
              "    <tr>\n",
              "      <th>3</th>\n",
              "      <td>4</td>\n",
              "      <td>2011-01-04</td>\n",
              "      <td>1</td>\n",
              "      <td>0</td>\n",
              "      <td>1</td>\n",
              "      <td>0</td>\n",
              "      <td>2</td>\n",
              "      <td>1</td>\n",
              "      <td>1</td>\n",
              "      <td>0.200000</td>\n",
              "      <td>0.212122</td>\n",
              "      <td>0.590435</td>\n",
              "      <td>0.160296</td>\n",
              "      <td>108</td>\n",
              "      <td>1454</td>\n",
              "      <td>1562</td>\n",
              "    </tr>\n",
              "    <tr>\n",
              "      <th>4</th>\n",
              "      <td>5</td>\n",
              "      <td>2011-01-05</td>\n",
              "      <td>1</td>\n",
              "      <td>0</td>\n",
              "      <td>1</td>\n",
              "      <td>0</td>\n",
              "      <td>3</td>\n",
              "      <td>1</td>\n",
              "      <td>1</td>\n",
              "      <td>0.226957</td>\n",
              "      <td>0.229270</td>\n",
              "      <td>0.436957</td>\n",
              "      <td>0.186900</td>\n",
              "      <td>82</td>\n",
              "      <td>1518</td>\n",
              "      <td>1600</td>\n",
              "    </tr>\n",
              "  </tbody>\n",
              "</table>\n",
              "</div>\n",
              "      <button class=\"colab-df-convert\" onclick=\"convertToInteractive('df-efa62792-da99-4e14-ae0b-a79a959e35c1')\"\n",
              "              title=\"Convert this dataframe to an interactive table.\"\n",
              "              style=\"display:none;\">\n",
              "\n",
              "  <svg xmlns=\"http://www.w3.org/2000/svg\" height=\"24px\"viewBox=\"0 0 24 24\"\n",
              "       width=\"24px\">\n",
              "    <path d=\"M0 0h24v24H0V0z\" fill=\"none\"/>\n",
              "    <path d=\"M18.56 5.44l.94 2.06.94-2.06 2.06-.94-2.06-.94-.94-2.06-.94 2.06-2.06.94zm-11 1L8.5 8.5l.94-2.06 2.06-.94-2.06-.94L8.5 2.5l-.94 2.06-2.06.94zm10 10l.94 2.06.94-2.06 2.06-.94-2.06-.94-.94-2.06-.94 2.06-2.06.94z\"/><path d=\"M17.41 7.96l-1.37-1.37c-.4-.4-.92-.59-1.43-.59-.52 0-1.04.2-1.43.59L10.3 9.45l-7.72 7.72c-.78.78-.78 2.05 0 2.83L4 21.41c.39.39.9.59 1.41.59.51 0 1.02-.2 1.41-.59l7.78-7.78 2.81-2.81c.8-.78.8-2.07 0-2.86zM5.41 20L4 18.59l7.72-7.72 1.47 1.35L5.41 20z\"/>\n",
              "  </svg>\n",
              "      </button>\n",
              "\n",
              "\n",
              "\n",
              "    <div id=\"df-843d9001-8c4a-479f-a698-066b017eef4b\">\n",
              "      <button class=\"colab-df-quickchart\" onclick=\"quickchart('df-843d9001-8c4a-479f-a698-066b017eef4b')\"\n",
              "              title=\"Suggest charts.\"\n",
              "              style=\"display:none;\">\n",
              "\n",
              "<svg xmlns=\"http://www.w3.org/2000/svg\" height=\"24px\"viewBox=\"0 0 24 24\"\n",
              "     width=\"24px\">\n",
              "    <g>\n",
              "        <path d=\"M19 3H5c-1.1 0-2 .9-2 2v14c0 1.1.9 2 2 2h14c1.1 0 2-.9 2-2V5c0-1.1-.9-2-2-2zM9 17H7v-7h2v7zm4 0h-2V7h2v10zm4 0h-2v-4h2v4z\"/>\n",
              "    </g>\n",
              "</svg>\n",
              "      </button>\n",
              "    </div>\n",
              "\n",
              "<style>\n",
              "  .colab-df-quickchart {\n",
              "    background-color: #E8F0FE;\n",
              "    border: none;\n",
              "    border-radius: 50%;\n",
              "    cursor: pointer;\n",
              "    display: none;\n",
              "    fill: #1967D2;\n",
              "    height: 32px;\n",
              "    padding: 0 0 0 0;\n",
              "    width: 32px;\n",
              "  }\n",
              "\n",
              "  .colab-df-quickchart:hover {\n",
              "    background-color: #E2EBFA;\n",
              "    box-shadow: 0px 1px 2px rgba(60, 64, 67, 0.3), 0px 1px 3px 1px rgba(60, 64, 67, 0.15);\n",
              "    fill: #174EA6;\n",
              "  }\n",
              "\n",
              "  [theme=dark] .colab-df-quickchart {\n",
              "    background-color: #3B4455;\n",
              "    fill: #D2E3FC;\n",
              "  }\n",
              "\n",
              "  [theme=dark] .colab-df-quickchart:hover {\n",
              "    background-color: #434B5C;\n",
              "    box-shadow: 0px 1px 3px 1px rgba(0, 0, 0, 0.15);\n",
              "    filter: drop-shadow(0px 1px 2px rgba(0, 0, 0, 0.3));\n",
              "    fill: #FFFFFF;\n",
              "  }\n",
              "</style>\n",
              "\n",
              "    <script>\n",
              "      async function quickchart(key) {\n",
              "        const containerElement = document.querySelector('#' + key);\n",
              "        const charts = await google.colab.kernel.invokeFunction(\n",
              "            'suggestCharts', [key], {});\n",
              "      }\n",
              "    </script>\n",
              "\n",
              "      <script>\n",
              "\n",
              "function displayQuickchartButton(domScope) {\n",
              "  let quickchartButtonEl =\n",
              "    domScope.querySelector('#df-843d9001-8c4a-479f-a698-066b017eef4b button.colab-df-quickchart');\n",
              "  quickchartButtonEl.style.display =\n",
              "    google.colab.kernel.accessAllowed ? 'block' : 'none';\n",
              "}\n",
              "\n",
              "        displayQuickchartButton(document);\n",
              "      </script>\n",
              "      <style>\n",
              "    .colab-df-container {\n",
              "      display:flex;\n",
              "      flex-wrap:wrap;\n",
              "      gap: 12px;\n",
              "    }\n",
              "\n",
              "    .colab-df-convert {\n",
              "      background-color: #E8F0FE;\n",
              "      border: none;\n",
              "      border-radius: 50%;\n",
              "      cursor: pointer;\n",
              "      display: none;\n",
              "      fill: #1967D2;\n",
              "      height: 32px;\n",
              "      padding: 0 0 0 0;\n",
              "      width: 32px;\n",
              "    }\n",
              "\n",
              "    .colab-df-convert:hover {\n",
              "      background-color: #E2EBFA;\n",
              "      box-shadow: 0px 1px 2px rgba(60, 64, 67, 0.3), 0px 1px 3px 1px rgba(60, 64, 67, 0.15);\n",
              "      fill: #174EA6;\n",
              "    }\n",
              "\n",
              "    [theme=dark] .colab-df-convert {\n",
              "      background-color: #3B4455;\n",
              "      fill: #D2E3FC;\n",
              "    }\n",
              "\n",
              "    [theme=dark] .colab-df-convert:hover {\n",
              "      background-color: #434B5C;\n",
              "      box-shadow: 0px 1px 3px 1px rgba(0, 0, 0, 0.15);\n",
              "      filter: drop-shadow(0px 1px 2px rgba(0, 0, 0, 0.3));\n",
              "      fill: #FFFFFF;\n",
              "    }\n",
              "  </style>\n",
              "\n",
              "      <script>\n",
              "        const buttonEl =\n",
              "          document.querySelector('#df-efa62792-da99-4e14-ae0b-a79a959e35c1 button.colab-df-convert');\n",
              "        buttonEl.style.display =\n",
              "          google.colab.kernel.accessAllowed ? 'block' : 'none';\n",
              "\n",
              "        async function convertToInteractive(key) {\n",
              "          const element = document.querySelector('#df-efa62792-da99-4e14-ae0b-a79a959e35c1');\n",
              "          const dataTable =\n",
              "            await google.colab.kernel.invokeFunction('convertToInteractive',\n",
              "                                                     [key], {});\n",
              "          if (!dataTable) return;\n",
              "\n",
              "          const docLinkHtml = 'Like what you see? Visit the ' +\n",
              "            '<a target=\"_blank\" href=https://colab.research.google.com/notebooks/data_table.ipynb>data table notebook</a>'\n",
              "            + ' to learn more about interactive tables.';\n",
              "          element.innerHTML = '';\n",
              "          dataTable['output_type'] = 'display_data';\n",
              "          await google.colab.output.renderOutput(dataTable, element);\n",
              "          const docLink = document.createElement('div');\n",
              "          docLink.innerHTML = docLinkHtml;\n",
              "          element.appendChild(docLink);\n",
              "        }\n",
              "      </script>\n",
              "    </div>\n",
              "  </div>\n"
            ]
          },
          "metadata": {},
          "execution_count": 3
        }
      ]
    },
    {
      "cell_type": "markdown",
      "source": [
        "### Exercise 1: A/B Testing\n",
        "\n",
        "Consider the case study below:\n",
        "\n",
        "**Case study:** The bike rental shop believes that they get more casual (non-registered) renters during summer. They believe the weather impacts the choice of transportation. The claim is that there are more casual bike renters in the summer compared to winter, and that this relationship is not due to chance but favourable weather conditions for cycling.\n",
        "\n",
        "As a data scientist, they want you to verify their claim using hypothesis testing."
      ],
      "metadata": {
        "id": "yFUKCnDzsvqF"
      }
    },
    {
      "cell_type": "markdown",
      "source": [
        "**Exercise 1.1:** Design a null and alternative hypothesis for this problem."
      ],
      "metadata": {
        "id": "SowaDvsms6D5"
      }
    },
    {
      "cell_type": "markdown",
      "source": [
        "A hypothesis test with the following null and alternative hypotheses:\n",
        "\n",
        "- **Null Hypothesis**: There is no significant difference in the number of casual bike renters during summer and winter.\n",
        "- **Alternative Hypothesis**: The amount of casual bike renters are significantly lower during the winter than summer seasons."
      ],
      "metadata": {
        "id": "6fkGboEZtGiv"
      }
    },
    {
      "cell_type": "markdown",
      "source": [
        "**Exercise 1.2:** What measure do you think is a perfect choice for a test statistic?"
      ],
      "metadata": {
        "id": "AyB15tC-pAQR"
      }
    },
    {
      "cell_type": "markdown",
      "source": [
        "**Test statistic choice:** A suitable test statistic for investigating this claim is the difference between the average number of casual bike renters during the summer and winter seasons. By comparing this difference to the null hypothesis, which assumes no significant difference in both seasons, we can determine if there is enough evidence to support the alternative hypothesis."
      ],
      "metadata": {
        "id": "5rTnGPjGpkPb"
      }
    },
    {
      "cell_type": "markdown",
      "source": [
        "**Exercise 1.3:** Compute the observed test statistic."
      ],
      "metadata": {
        "id": "6jc_fFcXrObH"
      }
    },
    {
      "cell_type": "code",
      "source": [
        "def calculate_test_statistic(data, group_col, numeric_col):\n",
        "    winter = data[data[group_col] == 4][numeric_col].mean()\n",
        "    summer = data[data[group_col] == 2][numeric_col].mean()\n",
        "    test_statistic = winter - summer\n",
        "    return test_statistic\n",
        "\n",
        "observed_statistic_ = calculate_test_statistic(data,  \"season\", \"casual\")\n",
        "observed_statistic_"
      ],
      "metadata": {
        "id": "2bou-dvvrW6l",
        "colab": {
          "base_uri": "https://localhost:8080/"
        },
        "outputId": "a7ddb615-3866-4202-bde9-31b6c242534c"
      },
      "execution_count": null,
      "outputs": [
        {
          "output_type": "execute_result",
          "data": {
            "text/plain": [
              "-376.9854665363947"
            ]
          },
          "metadata": {},
          "execution_count": 6
        }
      ]
    },
    {
      "cell_type": "code",
      "source": [
        "winter = data[data[\"season\"] == 4][\"casual\"].mean()\n",
        "winter"
      ],
      "metadata": {
        "colab": {
          "base_uri": "https://localhost:8080/",
          "height": 424
        },
        "id": "4qLDFk-kqlnr",
        "outputId": "622b1ee8-9638-4549-d669-70f96e08643b"
      },
      "execution_count": null,
      "outputs": [
        {
          "output_type": "execute_result",
          "data": {
            "text/plain": [
              "     instant      dteday  season  yr  mnth  holiday  weekday  workingday  \\\n",
              "265      266  2011-09-23       4   0     9        0        5           1   \n",
              "266      267  2011-09-24       4   0     9        0        6           0   \n",
              "267      268  2011-09-25       4   0     9        0        0           0   \n",
              "268      269  2011-09-26       4   0     9        0        1           1   \n",
              "269      270  2011-09-27       4   0     9        0        2           1   \n",
              "..       ...         ...     ...  ..   ...      ...      ...         ...   \n",
              "715      716  2012-12-16       4   1    12        0        0           0   \n",
              "716      717  2012-12-17       4   1    12        0        1           1   \n",
              "717      718  2012-12-18       4   1    12        0        2           1   \n",
              "718      719  2012-12-19       4   1    12        0        3           1   \n",
              "719      720  2012-12-20       4   1    12        0        4           1   \n",
              "\n",
              "     weathersit      temp     atemp       hum  windspeed  casual  registered  \\\n",
              "265           2  0.609167  0.522125  0.972500   0.078367     258        2137   \n",
              "266           2  0.606667  0.564412  0.862500   0.078383    1776        3647   \n",
              "267           2  0.634167  0.572637  0.845000   0.050379    1544        3466   \n",
              "268           2  0.649167  0.589042  0.848333   0.110700     684        3946   \n",
              "269           2  0.636667  0.574525  0.885417   0.118171     477        3643   \n",
              "..          ...       ...       ...       ...        ...     ...         ...   \n",
              "715           2  0.362500  0.369938  0.838750   0.100742     538        3248   \n",
              "716           2  0.393333  0.401500  0.907083   0.098258     212        4373   \n",
              "717           1  0.410833  0.409708  0.666250   0.221404     433        5124   \n",
              "718           1  0.332500  0.342162  0.625417   0.184092     333        4934   \n",
              "719           2  0.330000  0.335217  0.667917   0.132463     314        3814   \n",
              "\n",
              "      cnt  \n",
              "265  2395  \n",
              "266  5423  \n",
              "267  5010  \n",
              "268  4630  \n",
              "269  4120  \n",
              "..    ...  \n",
              "715  3786  \n",
              "716  4585  \n",
              "717  5557  \n",
              "718  5267  \n",
              "719  4128  \n",
              "\n",
              "[178 rows x 16 columns]"
            ],
            "text/html": [
              "\n",
              "\n",
              "  <div id=\"df-929d5e8e-e153-499f-97bc-651a6ea65bcd\">\n",
              "    <div class=\"colab-df-container\">\n",
              "      <div>\n",
              "<style scoped>\n",
              "    .dataframe tbody tr th:only-of-type {\n",
              "        vertical-align: middle;\n",
              "    }\n",
              "\n",
              "    .dataframe tbody tr th {\n",
              "        vertical-align: top;\n",
              "    }\n",
              "\n",
              "    .dataframe thead th {\n",
              "        text-align: right;\n",
              "    }\n",
              "</style>\n",
              "<table border=\"1\" class=\"dataframe\">\n",
              "  <thead>\n",
              "    <tr style=\"text-align: right;\">\n",
              "      <th></th>\n",
              "      <th>instant</th>\n",
              "      <th>dteday</th>\n",
              "      <th>season</th>\n",
              "      <th>yr</th>\n",
              "      <th>mnth</th>\n",
              "      <th>holiday</th>\n",
              "      <th>weekday</th>\n",
              "      <th>workingday</th>\n",
              "      <th>weathersit</th>\n",
              "      <th>temp</th>\n",
              "      <th>atemp</th>\n",
              "      <th>hum</th>\n",
              "      <th>windspeed</th>\n",
              "      <th>casual</th>\n",
              "      <th>registered</th>\n",
              "      <th>cnt</th>\n",
              "    </tr>\n",
              "  </thead>\n",
              "  <tbody>\n",
              "    <tr>\n",
              "      <th>265</th>\n",
              "      <td>266</td>\n",
              "      <td>2011-09-23</td>\n",
              "      <td>4</td>\n",
              "      <td>0</td>\n",
              "      <td>9</td>\n",
              "      <td>0</td>\n",
              "      <td>5</td>\n",
              "      <td>1</td>\n",
              "      <td>2</td>\n",
              "      <td>0.609167</td>\n",
              "      <td>0.522125</td>\n",
              "      <td>0.972500</td>\n",
              "      <td>0.078367</td>\n",
              "      <td>258</td>\n",
              "      <td>2137</td>\n",
              "      <td>2395</td>\n",
              "    </tr>\n",
              "    <tr>\n",
              "      <th>266</th>\n",
              "      <td>267</td>\n",
              "      <td>2011-09-24</td>\n",
              "      <td>4</td>\n",
              "      <td>0</td>\n",
              "      <td>9</td>\n",
              "      <td>0</td>\n",
              "      <td>6</td>\n",
              "      <td>0</td>\n",
              "      <td>2</td>\n",
              "      <td>0.606667</td>\n",
              "      <td>0.564412</td>\n",
              "      <td>0.862500</td>\n",
              "      <td>0.078383</td>\n",
              "      <td>1776</td>\n",
              "      <td>3647</td>\n",
              "      <td>5423</td>\n",
              "    </tr>\n",
              "    <tr>\n",
              "      <th>267</th>\n",
              "      <td>268</td>\n",
              "      <td>2011-09-25</td>\n",
              "      <td>4</td>\n",
              "      <td>0</td>\n",
              "      <td>9</td>\n",
              "      <td>0</td>\n",
              "      <td>0</td>\n",
              "      <td>0</td>\n",
              "      <td>2</td>\n",
              "      <td>0.634167</td>\n",
              "      <td>0.572637</td>\n",
              "      <td>0.845000</td>\n",
              "      <td>0.050379</td>\n",
              "      <td>1544</td>\n",
              "      <td>3466</td>\n",
              "      <td>5010</td>\n",
              "    </tr>\n",
              "    <tr>\n",
              "      <th>268</th>\n",
              "      <td>269</td>\n",
              "      <td>2011-09-26</td>\n",
              "      <td>4</td>\n",
              "      <td>0</td>\n",
              "      <td>9</td>\n",
              "      <td>0</td>\n",
              "      <td>1</td>\n",
              "      <td>1</td>\n",
              "      <td>2</td>\n",
              "      <td>0.649167</td>\n",
              "      <td>0.589042</td>\n",
              "      <td>0.848333</td>\n",
              "      <td>0.110700</td>\n",
              "      <td>684</td>\n",
              "      <td>3946</td>\n",
              "      <td>4630</td>\n",
              "    </tr>\n",
              "    <tr>\n",
              "      <th>269</th>\n",
              "      <td>270</td>\n",
              "      <td>2011-09-27</td>\n",
              "      <td>4</td>\n",
              "      <td>0</td>\n",
              "      <td>9</td>\n",
              "      <td>0</td>\n",
              "      <td>2</td>\n",
              "      <td>1</td>\n",
              "      <td>2</td>\n",
              "      <td>0.636667</td>\n",
              "      <td>0.574525</td>\n",
              "      <td>0.885417</td>\n",
              "      <td>0.118171</td>\n",
              "      <td>477</td>\n",
              "      <td>3643</td>\n",
              "      <td>4120</td>\n",
              "    </tr>\n",
              "    <tr>\n",
              "      <th>...</th>\n",
              "      <td>...</td>\n",
              "      <td>...</td>\n",
              "      <td>...</td>\n",
              "      <td>...</td>\n",
              "      <td>...</td>\n",
              "      <td>...</td>\n",
              "      <td>...</td>\n",
              "      <td>...</td>\n",
              "      <td>...</td>\n",
              "      <td>...</td>\n",
              "      <td>...</td>\n",
              "      <td>...</td>\n",
              "      <td>...</td>\n",
              "      <td>...</td>\n",
              "      <td>...</td>\n",
              "      <td>...</td>\n",
              "    </tr>\n",
              "    <tr>\n",
              "      <th>715</th>\n",
              "      <td>716</td>\n",
              "      <td>2012-12-16</td>\n",
              "      <td>4</td>\n",
              "      <td>1</td>\n",
              "      <td>12</td>\n",
              "      <td>0</td>\n",
              "      <td>0</td>\n",
              "      <td>0</td>\n",
              "      <td>2</td>\n",
              "      <td>0.362500</td>\n",
              "      <td>0.369938</td>\n",
              "      <td>0.838750</td>\n",
              "      <td>0.100742</td>\n",
              "      <td>538</td>\n",
              "      <td>3248</td>\n",
              "      <td>3786</td>\n",
              "    </tr>\n",
              "    <tr>\n",
              "      <th>716</th>\n",
              "      <td>717</td>\n",
              "      <td>2012-12-17</td>\n",
              "      <td>4</td>\n",
              "      <td>1</td>\n",
              "      <td>12</td>\n",
              "      <td>0</td>\n",
              "      <td>1</td>\n",
              "      <td>1</td>\n",
              "      <td>2</td>\n",
              "      <td>0.393333</td>\n",
              "      <td>0.401500</td>\n",
              "      <td>0.907083</td>\n",
              "      <td>0.098258</td>\n",
              "      <td>212</td>\n",
              "      <td>4373</td>\n",
              "      <td>4585</td>\n",
              "    </tr>\n",
              "    <tr>\n",
              "      <th>717</th>\n",
              "      <td>718</td>\n",
              "      <td>2012-12-18</td>\n",
              "      <td>4</td>\n",
              "      <td>1</td>\n",
              "      <td>12</td>\n",
              "      <td>0</td>\n",
              "      <td>2</td>\n",
              "      <td>1</td>\n",
              "      <td>1</td>\n",
              "      <td>0.410833</td>\n",
              "      <td>0.409708</td>\n",
              "      <td>0.666250</td>\n",
              "      <td>0.221404</td>\n",
              "      <td>433</td>\n",
              "      <td>5124</td>\n",
              "      <td>5557</td>\n",
              "    </tr>\n",
              "    <tr>\n",
              "      <th>718</th>\n",
              "      <td>719</td>\n",
              "      <td>2012-12-19</td>\n",
              "      <td>4</td>\n",
              "      <td>1</td>\n",
              "      <td>12</td>\n",
              "      <td>0</td>\n",
              "      <td>3</td>\n",
              "      <td>1</td>\n",
              "      <td>1</td>\n",
              "      <td>0.332500</td>\n",
              "      <td>0.342162</td>\n",
              "      <td>0.625417</td>\n",
              "      <td>0.184092</td>\n",
              "      <td>333</td>\n",
              "      <td>4934</td>\n",
              "      <td>5267</td>\n",
              "    </tr>\n",
              "    <tr>\n",
              "      <th>719</th>\n",
              "      <td>720</td>\n",
              "      <td>2012-12-20</td>\n",
              "      <td>4</td>\n",
              "      <td>1</td>\n",
              "      <td>12</td>\n",
              "      <td>0</td>\n",
              "      <td>4</td>\n",
              "      <td>1</td>\n",
              "      <td>2</td>\n",
              "      <td>0.330000</td>\n",
              "      <td>0.335217</td>\n",
              "      <td>0.667917</td>\n",
              "      <td>0.132463</td>\n",
              "      <td>314</td>\n",
              "      <td>3814</td>\n",
              "      <td>4128</td>\n",
              "    </tr>\n",
              "  </tbody>\n",
              "</table>\n",
              "<p>178 rows × 16 columns</p>\n",
              "</div>\n",
              "      <button class=\"colab-df-convert\" onclick=\"convertToInteractive('df-929d5e8e-e153-499f-97bc-651a6ea65bcd')\"\n",
              "              title=\"Convert this dataframe to an interactive table.\"\n",
              "              style=\"display:none;\">\n",
              "\n",
              "  <svg xmlns=\"http://www.w3.org/2000/svg\" height=\"24px\"viewBox=\"0 0 24 24\"\n",
              "       width=\"24px\">\n",
              "    <path d=\"M0 0h24v24H0V0z\" fill=\"none\"/>\n",
              "    <path d=\"M18.56 5.44l.94 2.06.94-2.06 2.06-.94-2.06-.94-.94-2.06-.94 2.06-2.06.94zm-11 1L8.5 8.5l.94-2.06 2.06-.94-2.06-.94L8.5 2.5l-.94 2.06-2.06.94zm10 10l.94 2.06.94-2.06 2.06-.94-2.06-.94-.94-2.06-.94 2.06-2.06.94z\"/><path d=\"M17.41 7.96l-1.37-1.37c-.4-.4-.92-.59-1.43-.59-.52 0-1.04.2-1.43.59L10.3 9.45l-7.72 7.72c-.78.78-.78 2.05 0 2.83L4 21.41c.39.39.9.59 1.41.59.51 0 1.02-.2 1.41-.59l7.78-7.78 2.81-2.81c.8-.78.8-2.07 0-2.86zM5.41 20L4 18.59l7.72-7.72 1.47 1.35L5.41 20z\"/>\n",
              "  </svg>\n",
              "      </button>\n",
              "\n",
              "\n",
              "\n",
              "    <div id=\"df-68d4e443-0c53-4240-be1e-a4a38ee0717a\">\n",
              "      <button class=\"colab-df-quickchart\" onclick=\"quickchart('df-68d4e443-0c53-4240-be1e-a4a38ee0717a')\"\n",
              "              title=\"Suggest charts.\"\n",
              "              style=\"display:none;\">\n",
              "\n",
              "<svg xmlns=\"http://www.w3.org/2000/svg\" height=\"24px\"viewBox=\"0 0 24 24\"\n",
              "     width=\"24px\">\n",
              "    <g>\n",
              "        <path d=\"M19 3H5c-1.1 0-2 .9-2 2v14c0 1.1.9 2 2 2h14c1.1 0 2-.9 2-2V5c0-1.1-.9-2-2-2zM9 17H7v-7h2v7zm4 0h-2V7h2v10zm4 0h-2v-4h2v4z\"/>\n",
              "    </g>\n",
              "</svg>\n",
              "      </button>\n",
              "    </div>\n",
              "\n",
              "<style>\n",
              "  .colab-df-quickchart {\n",
              "    background-color: #E8F0FE;\n",
              "    border: none;\n",
              "    border-radius: 50%;\n",
              "    cursor: pointer;\n",
              "    display: none;\n",
              "    fill: #1967D2;\n",
              "    height: 32px;\n",
              "    padding: 0 0 0 0;\n",
              "    width: 32px;\n",
              "  }\n",
              "\n",
              "  .colab-df-quickchart:hover {\n",
              "    background-color: #E2EBFA;\n",
              "    box-shadow: 0px 1px 2px rgba(60, 64, 67, 0.3), 0px 1px 3px 1px rgba(60, 64, 67, 0.15);\n",
              "    fill: #174EA6;\n",
              "  }\n",
              "\n",
              "  [theme=dark] .colab-df-quickchart {\n",
              "    background-color: #3B4455;\n",
              "    fill: #D2E3FC;\n",
              "  }\n",
              "\n",
              "  [theme=dark] .colab-df-quickchart:hover {\n",
              "    background-color: #434B5C;\n",
              "    box-shadow: 0px 1px 3px 1px rgba(0, 0, 0, 0.15);\n",
              "    filter: drop-shadow(0px 1px 2px rgba(0, 0, 0, 0.3));\n",
              "    fill: #FFFFFF;\n",
              "  }\n",
              "</style>\n",
              "\n",
              "    <script>\n",
              "      async function quickchart(key) {\n",
              "        const containerElement = document.querySelector('#' + key);\n",
              "        const charts = await google.colab.kernel.invokeFunction(\n",
              "            'suggestCharts', [key], {});\n",
              "      }\n",
              "    </script>\n",
              "\n",
              "      <script>\n",
              "\n",
              "function displayQuickchartButton(domScope) {\n",
              "  let quickchartButtonEl =\n",
              "    domScope.querySelector('#df-68d4e443-0c53-4240-be1e-a4a38ee0717a button.colab-df-quickchart');\n",
              "  quickchartButtonEl.style.display =\n",
              "    google.colab.kernel.accessAllowed ? 'block' : 'none';\n",
              "}\n",
              "\n",
              "        displayQuickchartButton(document);\n",
              "      </script>\n",
              "      <style>\n",
              "    .colab-df-container {\n",
              "      display:flex;\n",
              "      flex-wrap:wrap;\n",
              "      gap: 12px;\n",
              "    }\n",
              "\n",
              "    .colab-df-convert {\n",
              "      background-color: #E8F0FE;\n",
              "      border: none;\n",
              "      border-radius: 50%;\n",
              "      cursor: pointer;\n",
              "      display: none;\n",
              "      fill: #1967D2;\n",
              "      height: 32px;\n",
              "      padding: 0 0 0 0;\n",
              "      width: 32px;\n",
              "    }\n",
              "\n",
              "    .colab-df-convert:hover {\n",
              "      background-color: #E2EBFA;\n",
              "      box-shadow: 0px 1px 2px rgba(60, 64, 67, 0.3), 0px 1px 3px 1px rgba(60, 64, 67, 0.15);\n",
              "      fill: #174EA6;\n",
              "    }\n",
              "\n",
              "    [theme=dark] .colab-df-convert {\n",
              "      background-color: #3B4455;\n",
              "      fill: #D2E3FC;\n",
              "    }\n",
              "\n",
              "    [theme=dark] .colab-df-convert:hover {\n",
              "      background-color: #434B5C;\n",
              "      box-shadow: 0px 1px 3px 1px rgba(0, 0, 0, 0.15);\n",
              "      filter: drop-shadow(0px 1px 2px rgba(0, 0, 0, 0.3));\n",
              "      fill: #FFFFFF;\n",
              "    }\n",
              "  </style>\n",
              "\n",
              "      <script>\n",
              "        const buttonEl =\n",
              "          document.querySelector('#df-929d5e8e-e153-499f-97bc-651a6ea65bcd button.colab-df-convert');\n",
              "        buttonEl.style.display =\n",
              "          google.colab.kernel.accessAllowed ? 'block' : 'none';\n",
              "\n",
              "        async function convertToInteractive(key) {\n",
              "          const element = document.querySelector('#df-929d5e8e-e153-499f-97bc-651a6ea65bcd');\n",
              "          const dataTable =\n",
              "            await google.colab.kernel.invokeFunction('convertToInteractive',\n",
              "                                                     [key], {});\n",
              "          if (!dataTable) return;\n",
              "\n",
              "          const docLinkHtml = 'Like what you see? Visit the ' +\n",
              "            '<a target=\"_blank\" href=https://colab.research.google.com/notebooks/data_table.ipynb>data table notebook</a>'\n",
              "            + ' to learn more about interactive tables.';\n",
              "          element.innerHTML = '';\n",
              "          dataTable['output_type'] = 'display_data';\n",
              "          await google.colab.output.renderOutput(dataTable, element);\n",
              "          const docLink = document.createElement('div');\n",
              "          docLink.innerHTML = docLinkHtml;\n",
              "          element.appendChild(docLink);\n",
              "        }\n",
              "      </script>\n",
              "    </div>\n",
              "  </div>\n"
            ]
          },
          "metadata": {},
          "execution_count": 5
        }
      ]
    },
    {
      "cell_type": "markdown",
      "source": [
        "**Exercise 1.4:**  Create a subset of the dataset consisting of 170 random summer records and 170 random winter records. Think of our dataset as the population and the newly created subset as the sample.\n",
        "\n"
      ],
      "metadata": {
        "id": "mbjWxBzeHKpP"
      }
    },
    {
      "cell_type": "code",
      "source": [
        "# Perform hypothesis testing\n",
        "winter = data[data[\"season\"] == 4]\n",
        "summer = data[data[\"season\"] == 2]\n",
        "\n",
        "sample_size =170  # Define the sample size for each group\n",
        "\n",
        "#Create a subset of the female_diseased and the male_diseased\n",
        "summer_subset = summer.sample(n=sample_size, replace= False)\n",
        "winter_subset = winter.sample(n=sample_size, replace= False)\n",
        "\n",
        "\n",
        "combined = pd.concat([summer_subset, winter_subset], ignore_index=True)\n",
        "sample_data = combined[['season', 'casual']]"
      ],
      "metadata": {
        "id": "iSd9HFZ2HLz7"
      },
      "execution_count": null,
      "outputs": []
    },
    {
      "cell_type": "code",
      "source": [
        "sample_data.head()"
      ],
      "metadata": {
        "colab": {
          "base_uri": "https://localhost:8080/",
          "height": 206
        },
        "id": "HZBxw5yMtdfU",
        "outputId": "9fc38378-53f9-46a3-837f-7b701e47298a"
      },
      "execution_count": null,
      "outputs": [
        {
          "output_type": "execute_result",
          "data": {
            "text/plain": [
              "   season  casual\n",
              "0       2     172\n",
              "1       2    2496\n",
              "2       2     968\n",
              "3       2    1180\n",
              "4       2     531"
            ],
            "text/html": [
              "\n",
              "\n",
              "  <div id=\"df-66a19e79-3526-4782-811c-faf650d74624\">\n",
              "    <div class=\"colab-df-container\">\n",
              "      <div>\n",
              "<style scoped>\n",
              "    .dataframe tbody tr th:only-of-type {\n",
              "        vertical-align: middle;\n",
              "    }\n",
              "\n",
              "    .dataframe tbody tr th {\n",
              "        vertical-align: top;\n",
              "    }\n",
              "\n",
              "    .dataframe thead th {\n",
              "        text-align: right;\n",
              "    }\n",
              "</style>\n",
              "<table border=\"1\" class=\"dataframe\">\n",
              "  <thead>\n",
              "    <tr style=\"text-align: right;\">\n",
              "      <th></th>\n",
              "      <th>season</th>\n",
              "      <th>casual</th>\n",
              "    </tr>\n",
              "  </thead>\n",
              "  <tbody>\n",
              "    <tr>\n",
              "      <th>0</th>\n",
              "      <td>2</td>\n",
              "      <td>172</td>\n",
              "    </tr>\n",
              "    <tr>\n",
              "      <th>1</th>\n",
              "      <td>2</td>\n",
              "      <td>2496</td>\n",
              "    </tr>\n",
              "    <tr>\n",
              "      <th>2</th>\n",
              "      <td>2</td>\n",
              "      <td>968</td>\n",
              "    </tr>\n",
              "    <tr>\n",
              "      <th>3</th>\n",
              "      <td>2</td>\n",
              "      <td>1180</td>\n",
              "    </tr>\n",
              "    <tr>\n",
              "      <th>4</th>\n",
              "      <td>2</td>\n",
              "      <td>531</td>\n",
              "    </tr>\n",
              "  </tbody>\n",
              "</table>\n",
              "</div>\n",
              "      <button class=\"colab-df-convert\" onclick=\"convertToInteractive('df-66a19e79-3526-4782-811c-faf650d74624')\"\n",
              "              title=\"Convert this dataframe to an interactive table.\"\n",
              "              style=\"display:none;\">\n",
              "\n",
              "  <svg xmlns=\"http://www.w3.org/2000/svg\" height=\"24px\"viewBox=\"0 0 24 24\"\n",
              "       width=\"24px\">\n",
              "    <path d=\"M0 0h24v24H0V0z\" fill=\"none\"/>\n",
              "    <path d=\"M18.56 5.44l.94 2.06.94-2.06 2.06-.94-2.06-.94-.94-2.06-.94 2.06-2.06.94zm-11 1L8.5 8.5l.94-2.06 2.06-.94-2.06-.94L8.5 2.5l-.94 2.06-2.06.94zm10 10l.94 2.06.94-2.06 2.06-.94-2.06-.94-.94-2.06-.94 2.06-2.06.94z\"/><path d=\"M17.41 7.96l-1.37-1.37c-.4-.4-.92-.59-1.43-.59-.52 0-1.04.2-1.43.59L10.3 9.45l-7.72 7.72c-.78.78-.78 2.05 0 2.83L4 21.41c.39.39.9.59 1.41.59.51 0 1.02-.2 1.41-.59l7.78-7.78 2.81-2.81c.8-.78.8-2.07 0-2.86zM5.41 20L4 18.59l7.72-7.72 1.47 1.35L5.41 20z\"/>\n",
              "  </svg>\n",
              "      </button>\n",
              "\n",
              "\n",
              "\n",
              "    <div id=\"df-4654db29-2dc6-4b8d-b3b8-7a553554cce2\">\n",
              "      <button class=\"colab-df-quickchart\" onclick=\"quickchart('df-4654db29-2dc6-4b8d-b3b8-7a553554cce2')\"\n",
              "              title=\"Suggest charts.\"\n",
              "              style=\"display:none;\">\n",
              "\n",
              "<svg xmlns=\"http://www.w3.org/2000/svg\" height=\"24px\"viewBox=\"0 0 24 24\"\n",
              "     width=\"24px\">\n",
              "    <g>\n",
              "        <path d=\"M19 3H5c-1.1 0-2 .9-2 2v14c0 1.1.9 2 2 2h14c1.1 0 2-.9 2-2V5c0-1.1-.9-2-2-2zM9 17H7v-7h2v7zm4 0h-2V7h2v10zm4 0h-2v-4h2v4z\"/>\n",
              "    </g>\n",
              "</svg>\n",
              "      </button>\n",
              "    </div>\n",
              "\n",
              "<style>\n",
              "  .colab-df-quickchart {\n",
              "    background-color: #E8F0FE;\n",
              "    border: none;\n",
              "    border-radius: 50%;\n",
              "    cursor: pointer;\n",
              "    display: none;\n",
              "    fill: #1967D2;\n",
              "    height: 32px;\n",
              "    padding: 0 0 0 0;\n",
              "    width: 32px;\n",
              "  }\n",
              "\n",
              "  .colab-df-quickchart:hover {\n",
              "    background-color: #E2EBFA;\n",
              "    box-shadow: 0px 1px 2px rgba(60, 64, 67, 0.3), 0px 1px 3px 1px rgba(60, 64, 67, 0.15);\n",
              "    fill: #174EA6;\n",
              "  }\n",
              "\n",
              "  [theme=dark] .colab-df-quickchart {\n",
              "    background-color: #3B4455;\n",
              "    fill: #D2E3FC;\n",
              "  }\n",
              "\n",
              "  [theme=dark] .colab-df-quickchart:hover {\n",
              "    background-color: #434B5C;\n",
              "    box-shadow: 0px 1px 3px 1px rgba(0, 0, 0, 0.15);\n",
              "    filter: drop-shadow(0px 1px 2px rgba(0, 0, 0, 0.3));\n",
              "    fill: #FFFFFF;\n",
              "  }\n",
              "</style>\n",
              "\n",
              "    <script>\n",
              "      async function quickchart(key) {\n",
              "        const containerElement = document.querySelector('#' + key);\n",
              "        const charts = await google.colab.kernel.invokeFunction(\n",
              "            'suggestCharts', [key], {});\n",
              "      }\n",
              "    </script>\n",
              "\n",
              "      <script>\n",
              "\n",
              "function displayQuickchartButton(domScope) {\n",
              "  let quickchartButtonEl =\n",
              "    domScope.querySelector('#df-4654db29-2dc6-4b8d-b3b8-7a553554cce2 button.colab-df-quickchart');\n",
              "  quickchartButtonEl.style.display =\n",
              "    google.colab.kernel.accessAllowed ? 'block' : 'none';\n",
              "}\n",
              "\n",
              "        displayQuickchartButton(document);\n",
              "      </script>\n",
              "      <style>\n",
              "    .colab-df-container {\n",
              "      display:flex;\n",
              "      flex-wrap:wrap;\n",
              "      gap: 12px;\n",
              "    }\n",
              "\n",
              "    .colab-df-convert {\n",
              "      background-color: #E8F0FE;\n",
              "      border: none;\n",
              "      border-radius: 50%;\n",
              "      cursor: pointer;\n",
              "      display: none;\n",
              "      fill: #1967D2;\n",
              "      height: 32px;\n",
              "      padding: 0 0 0 0;\n",
              "      width: 32px;\n",
              "    }\n",
              "\n",
              "    .colab-df-convert:hover {\n",
              "      background-color: #E2EBFA;\n",
              "      box-shadow: 0px 1px 2px rgba(60, 64, 67, 0.3), 0px 1px 3px 1px rgba(60, 64, 67, 0.15);\n",
              "      fill: #174EA6;\n",
              "    }\n",
              "\n",
              "    [theme=dark] .colab-df-convert {\n",
              "      background-color: #3B4455;\n",
              "      fill: #D2E3FC;\n",
              "    }\n",
              "\n",
              "    [theme=dark] .colab-df-convert:hover {\n",
              "      background-color: #434B5C;\n",
              "      box-shadow: 0px 1px 3px 1px rgba(0, 0, 0, 0.15);\n",
              "      filter: drop-shadow(0px 1px 2px rgba(0, 0, 0, 0.3));\n",
              "      fill: #FFFFFF;\n",
              "    }\n",
              "  </style>\n",
              "\n",
              "      <script>\n",
              "        const buttonEl =\n",
              "          document.querySelector('#df-66a19e79-3526-4782-811c-faf650d74624 button.colab-df-convert');\n",
              "        buttonEl.style.display =\n",
              "          google.colab.kernel.accessAllowed ? 'block' : 'none';\n",
              "\n",
              "        async function convertToInteractive(key) {\n",
              "          const element = document.querySelector('#df-66a19e79-3526-4782-811c-faf650d74624');\n",
              "          const dataTable =\n",
              "            await google.colab.kernel.invokeFunction('convertToInteractive',\n",
              "                                                     [key], {});\n",
              "          if (!dataTable) return;\n",
              "\n",
              "          const docLinkHtml = 'Like what you see? Visit the ' +\n",
              "            '<a target=\"_blank\" href=https://colab.research.google.com/notebooks/data_table.ipynb>data table notebook</a>'\n",
              "            + ' to learn more about interactive tables.';\n",
              "          element.innerHTML = '';\n",
              "          dataTable['output_type'] = 'display_data';\n",
              "          await google.colab.output.renderOutput(dataTable, element);\n",
              "          const docLink = document.createElement('div');\n",
              "          docLink.innerHTML = docLinkHtml;\n",
              "          element.appendChild(docLink);\n",
              "        }\n",
              "      </script>\n",
              "    </div>\n",
              "  </div>\n"
            ]
          },
          "metadata": {},
          "execution_count": 10
        }
      ]
    },
    {
      "cell_type": "code",
      "source": [
        "sample_data.tail()"
      ],
      "metadata": {
        "colab": {
          "base_uri": "https://localhost:8080/",
          "height": 206
        },
        "id": "c9tfV9iWt2_n",
        "outputId": "a28aa81c-d087-4b15-ebaa-894381c4bc87"
      },
      "execution_count": null,
      "outputs": [
        {
          "output_type": "execute_result",
          "data": {
            "text/plain": [
              "     season  casual\n",
              "335       4     329\n",
              "336       4     471\n",
              "337       4    1499\n",
              "338       4     892\n",
              "339       4     376"
            ],
            "text/html": [
              "\n",
              "\n",
              "  <div id=\"df-ff0e5c6e-aca2-46a4-8433-170b9742de34\">\n",
              "    <div class=\"colab-df-container\">\n",
              "      <div>\n",
              "<style scoped>\n",
              "    .dataframe tbody tr th:only-of-type {\n",
              "        vertical-align: middle;\n",
              "    }\n",
              "\n",
              "    .dataframe tbody tr th {\n",
              "        vertical-align: top;\n",
              "    }\n",
              "\n",
              "    .dataframe thead th {\n",
              "        text-align: right;\n",
              "    }\n",
              "</style>\n",
              "<table border=\"1\" class=\"dataframe\">\n",
              "  <thead>\n",
              "    <tr style=\"text-align: right;\">\n",
              "      <th></th>\n",
              "      <th>season</th>\n",
              "      <th>casual</th>\n",
              "    </tr>\n",
              "  </thead>\n",
              "  <tbody>\n",
              "    <tr>\n",
              "      <th>335</th>\n",
              "      <td>4</td>\n",
              "      <td>329</td>\n",
              "    </tr>\n",
              "    <tr>\n",
              "      <th>336</th>\n",
              "      <td>4</td>\n",
              "      <td>471</td>\n",
              "    </tr>\n",
              "    <tr>\n",
              "      <th>337</th>\n",
              "      <td>4</td>\n",
              "      <td>1499</td>\n",
              "    </tr>\n",
              "    <tr>\n",
              "      <th>338</th>\n",
              "      <td>4</td>\n",
              "      <td>892</td>\n",
              "    </tr>\n",
              "    <tr>\n",
              "      <th>339</th>\n",
              "      <td>4</td>\n",
              "      <td>376</td>\n",
              "    </tr>\n",
              "  </tbody>\n",
              "</table>\n",
              "</div>\n",
              "      <button class=\"colab-df-convert\" onclick=\"convertToInteractive('df-ff0e5c6e-aca2-46a4-8433-170b9742de34')\"\n",
              "              title=\"Convert this dataframe to an interactive table.\"\n",
              "              style=\"display:none;\">\n",
              "\n",
              "  <svg xmlns=\"http://www.w3.org/2000/svg\" height=\"24px\"viewBox=\"0 0 24 24\"\n",
              "       width=\"24px\">\n",
              "    <path d=\"M0 0h24v24H0V0z\" fill=\"none\"/>\n",
              "    <path d=\"M18.56 5.44l.94 2.06.94-2.06 2.06-.94-2.06-.94-.94-2.06-.94 2.06-2.06.94zm-11 1L8.5 8.5l.94-2.06 2.06-.94-2.06-.94L8.5 2.5l-.94 2.06-2.06.94zm10 10l.94 2.06.94-2.06 2.06-.94-2.06-.94-.94-2.06-.94 2.06-2.06.94z\"/><path d=\"M17.41 7.96l-1.37-1.37c-.4-.4-.92-.59-1.43-.59-.52 0-1.04.2-1.43.59L10.3 9.45l-7.72 7.72c-.78.78-.78 2.05 0 2.83L4 21.41c.39.39.9.59 1.41.59.51 0 1.02-.2 1.41-.59l7.78-7.78 2.81-2.81c.8-.78.8-2.07 0-2.86zM5.41 20L4 18.59l7.72-7.72 1.47 1.35L5.41 20z\"/>\n",
              "  </svg>\n",
              "      </button>\n",
              "\n",
              "\n",
              "\n",
              "    <div id=\"df-bab6ffc2-3289-4518-9af7-4160771a9884\">\n",
              "      <button class=\"colab-df-quickchart\" onclick=\"quickchart('df-bab6ffc2-3289-4518-9af7-4160771a9884')\"\n",
              "              title=\"Suggest charts.\"\n",
              "              style=\"display:none;\">\n",
              "\n",
              "<svg xmlns=\"http://www.w3.org/2000/svg\" height=\"24px\"viewBox=\"0 0 24 24\"\n",
              "     width=\"24px\">\n",
              "    <g>\n",
              "        <path d=\"M19 3H5c-1.1 0-2 .9-2 2v14c0 1.1.9 2 2 2h14c1.1 0 2-.9 2-2V5c0-1.1-.9-2-2-2zM9 17H7v-7h2v7zm4 0h-2V7h2v10zm4 0h-2v-4h2v4z\"/>\n",
              "    </g>\n",
              "</svg>\n",
              "      </button>\n",
              "    </div>\n",
              "\n",
              "<style>\n",
              "  .colab-df-quickchart {\n",
              "    background-color: #E8F0FE;\n",
              "    border: none;\n",
              "    border-radius: 50%;\n",
              "    cursor: pointer;\n",
              "    display: none;\n",
              "    fill: #1967D2;\n",
              "    height: 32px;\n",
              "    padding: 0 0 0 0;\n",
              "    width: 32px;\n",
              "  }\n",
              "\n",
              "  .colab-df-quickchart:hover {\n",
              "    background-color: #E2EBFA;\n",
              "    box-shadow: 0px 1px 2px rgba(60, 64, 67, 0.3), 0px 1px 3px 1px rgba(60, 64, 67, 0.15);\n",
              "    fill: #174EA6;\n",
              "  }\n",
              "\n",
              "  [theme=dark] .colab-df-quickchart {\n",
              "    background-color: #3B4455;\n",
              "    fill: #D2E3FC;\n",
              "  }\n",
              "\n",
              "  [theme=dark] .colab-df-quickchart:hover {\n",
              "    background-color: #434B5C;\n",
              "    box-shadow: 0px 1px 3px 1px rgba(0, 0, 0, 0.15);\n",
              "    filter: drop-shadow(0px 1px 2px rgba(0, 0, 0, 0.3));\n",
              "    fill: #FFFFFF;\n",
              "  }\n",
              "</style>\n",
              "\n",
              "    <script>\n",
              "      async function quickchart(key) {\n",
              "        const containerElement = document.querySelector('#' + key);\n",
              "        const charts = await google.colab.kernel.invokeFunction(\n",
              "            'suggestCharts', [key], {});\n",
              "      }\n",
              "    </script>\n",
              "\n",
              "      <script>\n",
              "\n",
              "function displayQuickchartButton(domScope) {\n",
              "  let quickchartButtonEl =\n",
              "    domScope.querySelector('#df-bab6ffc2-3289-4518-9af7-4160771a9884 button.colab-df-quickchart');\n",
              "  quickchartButtonEl.style.display =\n",
              "    google.colab.kernel.accessAllowed ? 'block' : 'none';\n",
              "}\n",
              "\n",
              "        displayQuickchartButton(document);\n",
              "      </script>\n",
              "      <style>\n",
              "    .colab-df-container {\n",
              "      display:flex;\n",
              "      flex-wrap:wrap;\n",
              "      gap: 12px;\n",
              "    }\n",
              "\n",
              "    .colab-df-convert {\n",
              "      background-color: #E8F0FE;\n",
              "      border: none;\n",
              "      border-radius: 50%;\n",
              "      cursor: pointer;\n",
              "      display: none;\n",
              "      fill: #1967D2;\n",
              "      height: 32px;\n",
              "      padding: 0 0 0 0;\n",
              "      width: 32px;\n",
              "    }\n",
              "\n",
              "    .colab-df-convert:hover {\n",
              "      background-color: #E2EBFA;\n",
              "      box-shadow: 0px 1px 2px rgba(60, 64, 67, 0.3), 0px 1px 3px 1px rgba(60, 64, 67, 0.15);\n",
              "      fill: #174EA6;\n",
              "    }\n",
              "\n",
              "    [theme=dark] .colab-df-convert {\n",
              "      background-color: #3B4455;\n",
              "      fill: #D2E3FC;\n",
              "    }\n",
              "\n",
              "    [theme=dark] .colab-df-convert:hover {\n",
              "      background-color: #434B5C;\n",
              "      box-shadow: 0px 1px 3px 1px rgba(0, 0, 0, 0.15);\n",
              "      filter: drop-shadow(0px 1px 2px rgba(0, 0, 0, 0.3));\n",
              "      fill: #FFFFFF;\n",
              "    }\n",
              "  </style>\n",
              "\n",
              "      <script>\n",
              "        const buttonEl =\n",
              "          document.querySelector('#df-ff0e5c6e-aca2-46a4-8433-170b9742de34 button.colab-df-convert');\n",
              "        buttonEl.style.display =\n",
              "          google.colab.kernel.accessAllowed ? 'block' : 'none';\n",
              "\n",
              "        async function convertToInteractive(key) {\n",
              "          const element = document.querySelector('#df-ff0e5c6e-aca2-46a4-8433-170b9742de34');\n",
              "          const dataTable =\n",
              "            await google.colab.kernel.invokeFunction('convertToInteractive',\n",
              "                                                     [key], {});\n",
              "          if (!dataTable) return;\n",
              "\n",
              "          const docLinkHtml = 'Like what you see? Visit the ' +\n",
              "            '<a target=\"_blank\" href=https://colab.research.google.com/notebooks/data_table.ipynb>data table notebook</a>'\n",
              "            + ' to learn more about interactive tables.';\n",
              "          element.innerHTML = '';\n",
              "          dataTable['output_type'] = 'display_data';\n",
              "          await google.colab.output.renderOutput(dataTable, element);\n",
              "          const docLink = document.createElement('div');\n",
              "          docLink.innerHTML = docLinkHtml;\n",
              "          element.appendChild(docLink);\n",
              "        }\n",
              "      </script>\n",
              "    </div>\n",
              "  </div>\n"
            ]
          },
          "metadata": {},
          "execution_count": 11
        }
      ]
    },
    {
      "cell_type": "code",
      "source": [
        "shuffled_group = sample_data.copy() #create a copy of the dataset of samples\n",
        "shuffled_group"
      ],
      "metadata": {
        "id": "oFRdThThuMR-"
      },
      "execution_count": null,
      "outputs": []
    },
    {
      "cell_type": "code",
      "source": [
        "import numpy as np\n",
        "shuffled_group['season'] = np.random.permutation(shuffled_group['season'])\n",
        "print(shuffled_group.head())\n",
        "print(shuffled_group.tail())"
      ],
      "metadata": {
        "id": "0CimiVtNublo"
      },
      "execution_count": null,
      "outputs": []
    },
    {
      "cell_type": "code",
      "source": [
        "calculate_test_statistic(data,  \"season\", \"casual\")"
      ],
      "metadata": {
        "colab": {
          "base_uri": "https://localhost:8080/"
        },
        "id": "HqY_rM9kvPra",
        "outputId": "82cc487c-32e7-4489-b30e-6b8c61f25500"
      },
      "execution_count": null,
      "outputs": [
        {
          "output_type": "execute_result",
          "data": {
            "text/plain": [
              "-376.9854665363947"
            ]
          },
          "metadata": {},
          "execution_count": 18
        }
      ]
    },
    {
      "cell_type": "markdown",
      "source": [
        "**Exercise 1.4:** Here you will carry out 1000 permutation trials. In each trial, you will shuffle the groups of interest and compute the test statistic."
      ],
      "metadata": {
        "id": "L1q9tEMzo8sO"
      }
    },
    {
      "cell_type": "code",
      "source": [
        "repetitions = 1000  # Define the number of repetitions\n",
        "\n",
        "# Initialize an array to store the test statistics\n",
        "simulated_statistics_list = []\n",
        "np.random.seed(42)\n",
        "\n",
        "# simulate 1000 test statistics by shuffling the target column, computing statistics, and adding to the simulated_statistics_list\n",
        "for i in range(repetitions):\n",
        "    shuffled_group = sample_data.copy() #create a copy of the dataset of samples\n",
        "    shuffled_group['season'] = np.random.permutation(shuffled_group['season'])\n",
        "    test_statistic = calculate_test_statistic(shuffled_group, \"season\", \"casual\")\n",
        "    simulated_statistics_list.append(test_statistic)"
      ],
      "metadata": {
        "id": "F2lPcUigpnT3"
      },
      "execution_count": null,
      "outputs": []
    },
    {
      "cell_type": "code",
      "source": [
        " simulated_statistics_list"
      ],
      "metadata": {
        "id": "T9b_hwm2vfhk"
      },
      "execution_count": null,
      "outputs": []
    },
    {
      "cell_type": "markdown",
      "source": [
        "**Exercise 1.5:** Next, you will compute an empirical P-value for the simulation test in the previous exercise."
      ],
      "metadata": {
        "id": "8To38AVwppm0"
      }
    },
    {
      "cell_type": "code",
      "source": [
        "p_value = (np.abs(simulated_statistics_list) >= np.abs(observed_statistic_)).mean()\n",
        "\n",
        "# Print the results\n",
        "print(\"Observed Test Statistic:\", observed_statistic_)\n",
        "print(\"P-value:\", p_value)"
      ],
      "metadata": {
        "id": "7r_iryntrIrp",
        "colab": {
          "base_uri": "https://localhost:8080/"
        },
        "outputId": "cd5940e0-4a09-42eb-f4b8-c5d659e90b44"
      },
      "execution_count": null,
      "outputs": [
        {
          "output_type": "stream",
          "name": "stdout",
          "text": [
            "Observed Test Statistic: -376.9854665363947\n",
            "P-value: 0.0\n"
          ]
        }
      ]
    },
    {
      "cell_type": "markdown",
      "source": [
        "**Exercise 1.6:** Now attempt to visualize the distribution of the test statistics calculated during all of your simulation trials. Additionally, show the position of the observed (actual) test statistic for comparison."
      ],
      "metadata": {
        "id": "qVSPgQ61rlfW"
      }
    },
    {
      "cell_type": "code",
      "source": [
        "# if you would like to check the distribution of values from all trials, plot the simulated emperical distribution\n",
        "import matplotlib.pyplot as plt\n",
        "plt.hist(simulated_statistics_list, bins=30, edgecolor='black')\n",
        "plt.axvline(x=observed_statistic_, color='red', linestyle='dashed', linewidth=2, label='Observed')\n",
        "plt.xlabel('Difference in Mean')\n",
        "plt.ylabel('Frequency')\n",
        "plt.title('Simulated Empirical Distribution')\n",
        "plt.legend()\n",
        "plt.show()"
      ],
      "metadata": {
        "id": "O64HVnHqsau8",
        "colab": {
          "base_uri": "https://localhost:8080/",
          "height": 472
        },
        "outputId": "54f5acbe-7c65-44f0-fb28-0eedd8398d03"
      },
      "execution_count": null,
      "outputs": [
        {
          "output_type": "display_data",
          "data": {
            "text/plain": [
              "<Figure size 640x480 with 1 Axes>"
            ],
            "image/png": "[encoded data removed]"
          },
          "metadata": {}
        }
      ]
    },
    {
      "cell_type": "markdown",
      "source": [
        "**Exercise 1.7** Suppose you use a significance level of 5%. Which of the following is the appropriate conclusion from the hypothesis test?\n",
        "1. The p-value we observed is below the 5% cutoff, so we conclude that the data support the alternative hypothesis.\n",
        "2. The p-value we observed is above the 5% cutoff, so we conclude that there is not enough evidence to reject the null hypothesis.\n",
        "3. The p-value we observed is below the 5% cutoff, so we conclude that there is not enough evidence to reject the null hypothesis.\n",
        "4. The p-value we observed is above the 5% cutoff, so we conclude that the data support the alternative hypothesis.\n",
        "\n",
        "Assign `conclusion` to the number corresponding to your answer."
      ],
      "metadata": {
        "id": "cz8HJMZbtvtD"
      }
    },
    {
      "cell_type": "code",
      "source": [
        "conclusion = 1"
      ],
      "metadata": {
        "id": "w0Lj-C4lt8iJ"
      },
      "execution_count": null,
      "outputs": []
    },
    {
      "cell_type": "markdown",
      "source": [
        "### Exercise 2: Confidence Intervals\n",
        "Note: Do not use statsmodel in exercise #2."
      ],
      "metadata": {
        "id": "6-ntE9IVskdn"
      }
    },
    {
      "cell_type": "markdown",
      "source": [
        "**Exercise 2.1:** Calculate the confidence interval for the proportion of casual people who rented a bike during summer using a confidence level of 95% using statsmodel.\n",
        "\n",
        "*Hint: we are looking at the proportion of people who rent bikes casually during summer relative to total number of casual bike renters in the dataset*"
      ],
      "metadata": {
        "id": "KXzZ46dVtKq6"
      }
    },
    {
      "cell_type": "code",
      "source": [
        "total_casual_summer =data[data['season']==2]['casual'].sum()\n",
        "proportion = total_casual_summer.sum()/data['casual'].sum()\n",
        "\n",
        "#compute standard error\n",
        "std_error = np.sqrt(proportion * (1 - proportion) / total_casual_summer)\n",
        "print(f\"The standard error {std_error}\")\n",
        "\n",
        "z_score = 1.96 #benchmarked z-score for 95% confidence level\n",
        "error_margin = std_error * z_score\n",
        "\n",
        "lower = proportion - error_margin #lower limit of the CI\n",
        "upper = proportion + error_margin #upper limit of the CI\n",
        "\n",
        "print(f\"The confidence interval is: ({lower},{upper})\")"
      ],
      "metadata": {
        "id": "gysKs7DStg52",
        "colab": {
          "base_uri": "https://localhost:8080/"
        },
        "outputId": "97ed5f37-096d-455d-8d22-f411cc93386e"
      },
      "execution_count": null,
      "outputs": [
        {
          "output_type": "stream",
          "name": "stdout",
          "text": [
            "The standard error 0.0010408815213787698\n",
            "The confidence interval is: (0.3262121620746661,0.33029241763847084)\n"
          ]
        }
      ]
    },
    {
      "cell_type": "markdown",
      "source": [
        "**Exercise 2.2:** Calculate the confidence interval for the average wind speed during fall 2011 using a confidence level of 98%."
      ],
      "metadata": {
        "id": "BSpMKmuzukoq"
      }
    },
    {
      "cell_type": "code",
      "source": [
        "# Extract the data subset of interest: windspeed values in 2011\n",
        "values_2011 = data[data[\"yr\"] == 0]['windspeed']\n",
        "windspeed_avg = values_2011.mean()\n",
        "\n",
        "#compute standard error\n",
        "SE = values_2011.std()/np.sqrt(values_2011.shape[0])\n",
        "print(f\"standard error: {SE}\")\n",
        "\n",
        "z_score = 2.33 #benchmarked z-score for 98% confidence level\n",
        "error_margin = SE * z_score\n",
        "\n",
        "lower = windspeed_avg - error_margin #lower limit of the CI\n",
        "upper = windspeed_avg + error_margin #upper limit of the CI\n",
        "\n",
        "print(f\"The confidence interval is: ({lower},{upper})\")"
      ],
      "metadata": {
        "id": "BRpBSavQuvoL",
        "colab": {
          "base_uri": "https://localhost:8080/"
        },
        "outputId": "d7a5a507-de1d-4e87-e8b7-7b0a6e792c25"
      },
      "execution_count": null,
      "outputs": [
        {
          "output_type": "stream",
          "name": "stdout",
          "text": [
            "standard error: 0.004024612183741361\n",
            "The confidence interval is: (0.18202528840640314,0.2007799811826379)\n"
          ]
        }
      ]
    },
    {
      "cell_type": "markdown",
      "source": [
        "Now that you have attempted the above exercises with python. You are required to implement a solution using the statsmodel library."
      ],
      "metadata": {
        "id": "PYDZqGEBQJyn"
      }
    },
    {
      "cell_type": "markdown",
      "source": [
        "### Exercise 3: Statsmodel Implementation\n"
      ],
      "metadata": {
        "id": "kVid2VsKQU1A"
      }
    },
    {
      "cell_type": "markdown",
      "source": [
        "**Exercise 3.1:** Verify the claim in Exercise 1 using statsmodel."
      ],
      "metadata": {
        "id": "NFsfjjTPyKDt"
      }
    },
    {
      "cell_type": "code",
      "source": [
        "import statsmodels.api as sm\n",
        "test_statistic, p_value, _ = sm.stats.ttest_ind(summer['casual'],winter['casual'])\n",
        "print(p_value)"
      ],
      "metadata": {
        "id": "-aVMxu5wyRQX",
        "colab": {
          "base_uri": "https://localhost:8080/"
        },
        "outputId": "ea650d13-24be-4d95-982c-0698529941f8"
      },
      "execution_count": null,
      "outputs": [
        {
          "output_type": "stream",
          "name": "stdout",
          "text": [
            "1.9969038790144458e-07\n"
          ]
        }
      ]
    },
    {
      "cell_type": "markdown",
      "source": [
        "**Exercise 3.2:** Calculate the confidence interval for the proportion of casual people who rented a bike during summer using a confidence level of 95% using statsmodel.\n",
        "\n",
        "*Hint: we are looking at the proportion of people who rent bikes casually during summer relative to total number of casual bike renters in the dataset*"
      ],
      "metadata": {
        "id": "FFa5-wIQQerv"
      }
    },
    {
      "cell_type": "code",
      "source": [
        "total_casual_summer =data[data['season']==2]['casual'].sum()\n",
        "proportion = total_casual_summer/data['casual'].sum()\n",
        "confidence_interval = sm.stats.proportion_confint(count = data['casual'].sum() * proportion, nobs= data['casual'].sum(), alpha= 0.05)\n",
        "print(\"Confidence Interval:\", confidence_interval)"
      ],
      "metadata": {
        "id": "4zFV9gC9Qjl6",
        "colab": {
          "base_uri": "https://localhost:8080/"
        },
        "outputId": "00ec09fe-e349-456b-b72f-74897bf740dd"
      },
      "execution_count": null,
      "outputs": [
        {
          "output_type": "stream",
          "name": "stdout",
          "text": [
            "Confidence Interval: (0.32708345468417216, 0.32942112502896476)\n"
          ]
        }
      ]
    },
    {
      "cell_type": "markdown",
      "source": [
        "**Exercise 3.3:** Calculate the confidence interval for the average wind speed during fall 2011 using a confidence level of 98% using statsmodel."
      ],
      "metadata": {
        "id": "rY9HsnehQju1"
      }
    },
    {
      "cell_type": "code",
      "source": [
        "# Extract the data subset of interest: windspeed values in 2011\n",
        "values = data[data[\"yr\"] == 0]['windspeed']\n",
        "# Calculate the confidence interval using statsmodels\n",
        "confidence_interval = sm.stats.DescrStatsW(values).tconfint_mean(alpha=0.02)\n",
        "\n",
        "print(\"Confidence Interval:\", confidence_interval)"
      ],
      "metadata": {
        "id": "GwwGX6C1Q4wq",
        "colab": {
          "base_uri": "https://localhost:8080/"
        },
        "outputId": "08a37652-f117-4bae-b56c-20e9f1174abe"
      },
      "execution_count": null,
      "outputs": [
        {
          "output_type": "stream",
          "name": "stdout",
          "text": [
            "Confidence Interval: (0.18199858151328885, 0.20080668807575214)\n"
          ]
        }
      ]
    }
  ]
}